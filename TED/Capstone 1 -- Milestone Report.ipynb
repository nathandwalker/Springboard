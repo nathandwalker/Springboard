{
 "cells": [
  {
   "cell_type": "markdown",
   "metadata": {
    "extensions": {
     "jupyter_dashboards": {
      "version": 1,
      "views": {
       "grid_default": {
        "col": 0,
        "height": 29,
        "hidden": false,
        "row": 0,
        "width": 12
       },
       "report_default": {}
      }
     }
    }
   },
   "source": [
    "# TED Predictions\n",
    "Nathan Walker - March, 2018\n",
    "Springbaord Capstone 1\n",
    "Draft Report\n",
    "\n",
    "## Table of Contents\n",
    "1. [Introduction](#1 Introduction)  \n",
    "2. [Data Cleaning](#2 Data Cleaning)  \n",
    "    [--Metadata: Library and Data Import](#2 Metadata Import)  \n",
    "    [--Metadata: Data Cleanup](#2 Metadata Cleanup)  \n",
    "    [--Transcripts: Library and Data Import](#2 Tran Import)  \n",
    "    [--Transcripts: Data Cleanup](#2 Tran Cleanup)  \n",
    "3. [Exploratory Data Analysis](#3 EDA)\n",
    "4. [Modeling](#4 Modeling)  \n",
    "5. [Results](#5 Results)  \n",
    "\n",
    "---\n",
    "\n",
    "\n",
    "## <a id='#1 Introduction'>1. Introduction</a>\n",
    "\n",
    "TED is a nonprofit that holds multiple conferences about Technology, Entertainment, and Design every year.<sup>[1](https://www.ted.com/about/our-organization)</sup> The process of deciding who speaks at a TED event is rather complicated<sup>[2](http://speaker-nominations.ted.com/)-[3](https://www.ted.com/about/conferences/speaking-at-ted)</sup> and while many talks are engaging and inspiring, some are not well-received.\n",
    "\n",
    "All recorded talks are available on TED’s YouTube pages, but only the most promising of the bunch are uploaded to the official TED website. Videos on this official site can be rated by users through their choice of up to three predefined category tags, which can be divided into two categories: positive (beautiful, courageous, fascinating, funny, informative, ingenious, inspiring, jaw-dropping, persuasive) and negative (confusing, long-winded, obnoxious, OK, unconvincing). Users are given a search option to view videos that are highly rated in the positive categories (i.e., “Show me videos that are: beautiful” gives a list of the talks that rate high in “beautiful”). \n",
    "\n",
    "Because quality content drives TED’s official site’s success, being able to predict the success or failure of a TED talk would be quite valuable. TED employs some unknown system to decide which videos should go on their official site, but even among these hand-selected videos, not all receive overwhelmingly positive reviews. This hand-selection process naturally creates some bias against would-be failures, so unsuccessful videos will be under-represented in the data.  \n",
    "\n",
    "__The aim of this project is to create a linear regression model that can predict how successful a new video will be, based on some metadata and its transcript.__\n",
    "\n",
    "A video’s success is defined here as the percentage of positive user ratings it receives. That is, a video with 800 ratings in the _positive_ categories and 200 ratings in the _negative_ categories would have a a positive percent of $\\frac{800}{800+200} = 0.80$ or 80%.\n",
    "\n",
    "Metadata included in this assessment will be discussed in the [Data Cleaning](#2 Metadata Cleanup) and [Modeling](#3 Modeling) sections, but possible factors include video duration, the kind of TED event at which the talk was presented, the number of main speakers involved in the talk, and anything that can be gleaned from the transcripts themselves (e.g., number of \"applause\" or \"laugher\" demarcations).\n",
    "\n",
    "The transcripts themselves will be used by creating a 300-dimension GloVe<sup>[4](https://nlp.stanford.edu/pubs/glove.pdf)</sup> representation of each document. For each word, these representations are created by training a 300-node, single-layer neural network on overall co-occurence counts for a pair of words. The document representation is the sum of all words in a given document. Because these 300 dimensions are unordered and have no intrisic meaning, the model selection process can pick and choose the most informative ones and leave the others out. This process will be explored more fully in the [Modeling](#3 Modeling) section. GloVe representations will be parsed using spaCy's pre-trained web model, which was trained on common crawl data with 685k keys and 685k distinct vectors.<sup>[5](https://spacy.io/models/en#en_core_web_lg)</sup>\n",
    "\n",
    "## <a id='#2 Data Cleaning'>2. Data Cleaning</a>\n",
    "\n",
    "A user on Kaggle scraped TED’s online video repository<sup>[6](https://www.ted.com/talks)</sup> on September 21, 2017 and uploaded the dataset to Kaggle.<sup>[7](https://www.kaggle.com/rounakbanik/ted-talks)</sup> There are 2550 videos’ metadata and transcripts in the dataset, in two files. The metadata dataset includes the URL, information on the speaker, the video, community comment counts, and user ratings in different categories (as explained above). The transcript dataset includes the full transcript of each talk, as well as a URL for reference.\n",
    "\n",
    "To prepare the data for modeling, some preprocessing must take place first."
   ]
  },
  {
   "cell_type": "markdown",
   "metadata": {
    "extensions": {
     "jupyter_dashboards": {
      "version": 1,
      "views": {
       "grid_default": {
        "col": 0,
        "height": 4,
        "hidden": false,
        "row": 29,
        "width": 12
       },
       "report_default": {}
      }
     }
    }
   },
   "source": [
    "## <a id='#2 Metadata Import'>Metadata: Library and Data Import</a>\n",
    "\n",
    "The data is in CSV format, so it can be loaded in and explored using the pandas package. An overview of the data is available here:"
   ]
  },
  {
   "cell_type": "code",
   "execution_count": 40,
   "metadata": {
    "extensions": {
     "jupyter_dashboards": {
      "version": 1,
      "views": {
       "grid_default": {
        "col": 0,
        "height": 25,
        "hidden": false,
        "row": 33,
        "width": 12
       },
       "report_default": {}
      }
     }
    }
   },
   "outputs": [
    {
     "name": "stdout",
     "output_type": "stream",
     "text": [
      "<class 'pandas.core.frame.DataFrame'>\n",
      "RangeIndex: 2550 entries, 0 to 2549\n",
      "Data columns (total 17 columns):\n",
      "comments              2550 non-null int64\n",
      "description           2550 non-null object\n",
      "duration              2550 non-null int64\n",
      "event                 2550 non-null object\n",
      "film_date             2550 non-null int64\n",
      "languages             2550 non-null int64\n",
      "main_speaker          2550 non-null object\n",
      "name                  2550 non-null object\n",
      "num_speaker           2550 non-null int64\n",
      "published_date        2550 non-null int64\n",
      "ratings               2550 non-null object\n",
      "related_talks         2550 non-null object\n",
      "speaker_occupation    2544 non-null object\n",
      "tags                  2550 non-null object\n",
      "title                 2550 non-null object\n",
      "url                   2550 non-null object\n",
      "views                 2550 non-null int64\n",
      "dtypes: int64(7), object(10)\n",
      "memory usage: 338.8+ KB\n",
      "None\n"
     ]
    },
    {
     "data": {
      "text/html": [
       "<div>\n",
       "<style scoped>\n",
       "    .dataframe tbody tr th:only-of-type {\n",
       "        vertical-align: middle;\n",
       "    }\n",
       "\n",
       "    .dataframe tbody tr th {\n",
       "        vertical-align: top;\n",
       "    }\n",
       "\n",
       "    .dataframe thead th {\n",
       "        text-align: right;\n",
       "    }\n",
       "</style>\n",
       "<table border=\"1\" class=\"dataframe\">\n",
       "  <thead>\n",
       "    <tr style=\"text-align: right;\">\n",
       "      <th></th>\n",
       "      <th>comments</th>\n",
       "      <th>description</th>\n",
       "      <th>duration</th>\n",
       "      <th>event</th>\n",
       "      <th>film_date</th>\n",
       "      <th>languages</th>\n",
       "      <th>main_speaker</th>\n",
       "      <th>name</th>\n",
       "      <th>num_speaker</th>\n",
       "      <th>published_date</th>\n",
       "      <th>ratings</th>\n",
       "      <th>related_talks</th>\n",
       "      <th>speaker_occupation</th>\n",
       "      <th>tags</th>\n",
       "      <th>title</th>\n",
       "      <th>url</th>\n",
       "      <th>views</th>\n",
       "    </tr>\n",
       "  </thead>\n",
       "  <tbody>\n",
       "    <tr>\n",
       "      <th>0</th>\n",
       "      <td>4553</td>\n",
       "      <td>Sir Ken Robinson makes an entertaining and pro...</td>\n",
       "      <td>1164</td>\n",
       "      <td>TED2006</td>\n",
       "      <td>1140825600</td>\n",
       "      <td>60</td>\n",
       "      <td>Ken Robinson</td>\n",
       "      <td>Ken Robinson: Do schools kill creativity?</td>\n",
       "      <td>1</td>\n",
       "      <td>1151367060</td>\n",
       "      <td>[{'id': 7, 'name': 'Funny', 'count': 19645}, {...</td>\n",
       "      <td>[{'id': 865, 'hero': 'https://pe.tedcdn.com/im...</td>\n",
       "      <td>Author/educator</td>\n",
       "      <td>['children', 'creativity', 'culture', 'dance',...</td>\n",
       "      <td>Do schools kill creativity?</td>\n",
       "      <td>https://www.ted.com/talks/ken_robinson_says_sc...</td>\n",
       "      <td>47227110</td>\n",
       "    </tr>\n",
       "    <tr>\n",
       "      <th>1</th>\n",
       "      <td>265</td>\n",
       "      <td>With the same humor and humanity he exuded in ...</td>\n",
       "      <td>977</td>\n",
       "      <td>TED2006</td>\n",
       "      <td>1140825600</td>\n",
       "      <td>43</td>\n",
       "      <td>Al Gore</td>\n",
       "      <td>Al Gore: Averting the climate crisis</td>\n",
       "      <td>1</td>\n",
       "      <td>1151367060</td>\n",
       "      <td>[{'id': 7, 'name': 'Funny', 'count': 544}, {'i...</td>\n",
       "      <td>[{'id': 243, 'hero': 'https://pe.tedcdn.com/im...</td>\n",
       "      <td>Climate advocate</td>\n",
       "      <td>['alternative energy', 'cars', 'climate change...</td>\n",
       "      <td>Averting the climate crisis</td>\n",
       "      <td>https://www.ted.com/talks/al_gore_on_averting_...</td>\n",
       "      <td>3200520</td>\n",
       "    </tr>\n",
       "    <tr>\n",
       "      <th>2</th>\n",
       "      <td>124</td>\n",
       "      <td>New York Times columnist David Pogue takes aim...</td>\n",
       "      <td>1286</td>\n",
       "      <td>TED2006</td>\n",
       "      <td>1140739200</td>\n",
       "      <td>26</td>\n",
       "      <td>David Pogue</td>\n",
       "      <td>David Pogue: Simplicity sells</td>\n",
       "      <td>1</td>\n",
       "      <td>1151367060</td>\n",
       "      <td>[{'id': 7, 'name': 'Funny', 'count': 964}, {'i...</td>\n",
       "      <td>[{'id': 1725, 'hero': 'https://pe.tedcdn.com/i...</td>\n",
       "      <td>Technology columnist</td>\n",
       "      <td>['computers', 'entertainment', 'interface desi...</td>\n",
       "      <td>Simplicity sells</td>\n",
       "      <td>https://www.ted.com/talks/david_pogue_says_sim...</td>\n",
       "      <td>1636292</td>\n",
       "    </tr>\n",
       "  </tbody>\n",
       "</table>\n",
       "</div>"
      ],
      "text/plain": [
       "   comments                                        description  duration  \\\n",
       "0      4553  Sir Ken Robinson makes an entertaining and pro...      1164   \n",
       "1       265  With the same humor and humanity he exuded in ...       977   \n",
       "2       124  New York Times columnist David Pogue takes aim...      1286   \n",
       "\n",
       "     event   film_date  languages  main_speaker  \\\n",
       "0  TED2006  1140825600         60  Ken Robinson   \n",
       "1  TED2006  1140825600         43       Al Gore   \n",
       "2  TED2006  1140739200         26   David Pogue   \n",
       "\n",
       "                                        name  num_speaker  published_date  \\\n",
       "0  Ken Robinson: Do schools kill creativity?            1      1151367060   \n",
       "1       Al Gore: Averting the climate crisis            1      1151367060   \n",
       "2              David Pogue: Simplicity sells            1      1151367060   \n",
       "\n",
       "                                             ratings  \\\n",
       "0  [{'id': 7, 'name': 'Funny', 'count': 19645}, {...   \n",
       "1  [{'id': 7, 'name': 'Funny', 'count': 544}, {'i...   \n",
       "2  [{'id': 7, 'name': 'Funny', 'count': 964}, {'i...   \n",
       "\n",
       "                                       related_talks    speaker_occupation  \\\n",
       "0  [{'id': 865, 'hero': 'https://pe.tedcdn.com/im...       Author/educator   \n",
       "1  [{'id': 243, 'hero': 'https://pe.tedcdn.com/im...      Climate advocate   \n",
       "2  [{'id': 1725, 'hero': 'https://pe.tedcdn.com/i...  Technology columnist   \n",
       "\n",
       "                                                tags  \\\n",
       "0  ['children', 'creativity', 'culture', 'dance',...   \n",
       "1  ['alternative energy', 'cars', 'climate change...   \n",
       "2  ['computers', 'entertainment', 'interface desi...   \n",
       "\n",
       "                         title  \\\n",
       "0  Do schools kill creativity?   \n",
       "1  Averting the climate crisis   \n",
       "2             Simplicity sells   \n",
       "\n",
       "                                                 url     views  \n",
       "0  https://www.ted.com/talks/ken_robinson_says_sc...  47227110  \n",
       "1  https://www.ted.com/talks/al_gore_on_averting_...   3200520  \n",
       "2  https://www.ted.com/talks/david_pogue_says_sim...   1636292  "
      ]
     },
     "execution_count": 40,
     "metadata": {},
     "output_type": "execute_result"
    }
   ],
   "source": [
    "# 1. Library and Data Import\n",
    "\n",
    "# import libraries\n",
    "import pandas as pd              # CSV loading, dataframes\n",
    "import matplotlib.pyplot as plt  # Plots\n",
    "import seaborn as sns            # Pretty Plots\n",
    "import json                      # Convert ratings column\n",
    "import re                        # Regex\n",
    "\n",
    "# import data\n",
    "df_stats = pd.read_csv('ted_main.csv')\n",
    "\n",
    "# data preview\n",
    "print(df_stats.info())\n",
    "df_stats.head(3)"
   ]
  },
  {
   "cell_type": "markdown",
   "metadata": {
    "extensions": {
     "jupyter_dashboards": {
      "version": 1,
      "views": {
       "grid_default": {
        "col": 0,
        "height": 11,
        "hidden": false,
        "row": 58,
        "width": 12
       },
       "report_default": {}
      }
     }
    }
   },
   "source": [
    "The ouptut above shows that there are 2550 videos with 17 columns of information each. There are no missing rows in any of the important columns and no important columns with datatypes that must be changed.\n",
    "\n",
    "---\n",
    "\n",
    "## <a id='#2 Metadata Cleanup'>Metadata: Data Cleanup</a>\n",
    "\n",
    "There are a few things to be fixed here, but the data looks fairly clean already. The list of data cleaning tasks and their motivation is explained here:\n",
    "\n",
    "A. Identify and discard duplicate rows (if any).  \n",
    "B. Remove unneeded columns: __related_talks__, __speaker_occupation__, __comments__, __film_date__, __published_date__, __languages__, __main_speaker__, __speaker_occupation__, __title__, __description__, and __views__. These columns include data outside the scope of this study design.  \n",
    "C. Group __event__ categories, as there are too many options to be useful here.  \n",
    "D. Create \"percent positive ratings\" based on the __ratings__ column."
   ]
  },
  {
   "cell_type": "code",
   "execution_count": 41,
   "metadata": {
    "extensions": {
     "jupyter_dashboards": {
      "version": 1,
      "views": {
       "grid_default": {
        "col": 0,
        "height": 4,
        "hidden": false,
        "row": 69,
        "width": 4
       },
       "report_default": {}
      }
     }
    }
   },
   "outputs": [
    {
     "name": "stdout",
     "output_type": "stream",
     "text": [
      "Index of duplicates: [] \n",
      "\n",
      "Number of duplicates: 0\n"
     ]
    }
   ],
   "source": [
    "# A. Identify and discard duplicates.\n",
    "\n",
    "# identify duplicates based on name\n",
    "dup_list = df_stats.duplicated(subset='name')\n",
    "\n",
    "# print index of duplicates (if any)\n",
    "print(\"Index of duplicates:\", list(dup_list[dup_list == True].index))\n",
    "print(\"Number of duplicates:\", len(dup_list[dup_list == True]))"
   ]
  },
  {
   "cell_type": "code",
   "execution_count": 42,
   "metadata": {
    "extensions": {
     "jupyter_dashboards": {
      "version": 1,
      "views": {
       "grid_default": {
        "col": 4,
        "height": 4,
        "hidden": false,
        "row": 69,
        "width": 4
       },
       "report_default": {}
      }
     }
    }
   },
   "outputs": [],
   "source": [
    "# B. Remove columns\n",
    "\n",
    "to_remove = ['related_talks', 'speaker_occupation', 'comments', 'film_date', 'published_date', 'languages', 'main_speaker', 'speaker_occupation', 'title', 'views', 'description']\n",
    "df_stats.drop(columns=to_remove, inplace=True)"
   ]
  },
  {
   "cell_type": "code",
   "execution_count": 43,
   "metadata": {
    "extensions": {
     "jupyter_dashboards": {
      "version": 1,
      "views": {
       "grid_default": {
        "col": 8,
        "height": 36,
        "hidden": false,
        "row": 69,
        "width": 4
       },
       "report_default": {}
      }
     }
    }
   },
   "outputs": [
    {
     "data": {
      "text/plain": [
       "TED2014                          84\n",
       "TED2009                          83\n",
       "TED2016                          77\n",
       "TED2013                          77\n",
       "TED2015                          75\n",
       "TEDGlobal 2012                   70\n",
       "TED2011                          70\n",
       "TEDGlobal 2011                   68\n",
       "TED2007                          68\n",
       "TED2010                          68\n",
       "TED2017                          67\n",
       "TEDGlobal 2013                   66\n",
       "TED2012                          65\n",
       "TEDGlobal 2009                   65\n",
       "TED2008                          57\n",
       "TEDGlobal 2010                   55\n",
       "TEDGlobal 2014                   51\n",
       "TED2006                          45\n",
       "TED2005                          37\n",
       "TEDIndia 2009                    35\n",
       "TEDSummit                        34\n",
       "TEDWomen 2010                    34\n",
       "TED2003                          34\n",
       "TED2004                          31\n",
       "TEDWomen 2015                    28\n",
       "TED2002                          28\n",
       "TEDGlobal 2007                   27\n",
       "TEDGlobal 2005                   26\n",
       "TEDWomen 2016                    25\n",
       "TEDxBeaconStreet                 22\n",
       "                                 ..\n",
       "Justice with Michael Sandel       1\n",
       "TEDxNextGenerationAsheville       1\n",
       "Royal Institution                 1\n",
       "TEDxSouthBank                     1\n",
       "TEDxSeattleU                      1\n",
       "Harvard University                1\n",
       "TEDxCannes                        1\n",
       "TEDxUW                            1\n",
       "TEDxNatick                        1\n",
       "TEDxPennsylvaniaAvenue            1\n",
       "TEDxLondonBusinessSchool          1\n",
       "TEDxDirigo                        1\n",
       "Eric Whitacre's Virtual Choir     1\n",
       "TEDxUF                            1\n",
       "TEDxUIUC                          1\n",
       "Web 2.0 Expo 2008                 1\n",
       "TEDxFrankfurt                     1\n",
       "TEDxImperialCollege               1\n",
       "TEDxMtHood                        1\n",
       "TEDxUdeM                          1\n",
       "TEDxUM                            1\n",
       "TEDxGrandRapids                   1\n",
       "TEDxEdmonton                      1\n",
       "TEDxAmericanRiviera               1\n",
       "Arbejdsglaede Live                1\n",
       "TEDxBoston 2009                   1\n",
       "TEDxSBU                           1\n",
       "TEDxDubai                         1\n",
       "TEDxIndianaUniversity             1\n",
       "TEDxOrangeCoast                   1\n",
       "Name: event, Length: 355, dtype: int64"
      ]
     },
     "execution_count": 43,
     "metadata": {},
     "output_type": "execute_result"
    }
   ],
   "source": [
    "# C. Regroup event column\n",
    "\n",
    "# C1. Find all events\n",
    "df_stats.event.value_counts()"
   ]
  },
  {
   "cell_type": "markdown",
   "metadata": {
    "extensions": {
     "jupyter_dashboards": {
      "version": 1,
      "views": {
       "grid_default": {
        "col": 0,
        "height": 9,
        "hidden": false,
        "row": 105,
        "width": 12
       },
       "report_default": {}
      }
     }
    }
   },
   "source": [
    "There are __355__ different events to begin with, but there are quite a few patterns.  \n",
    "\n",
    "After searching through the un-shortened version of the above list, a few things become clear:\n",
    "\n",
    "1. There are non-TED events listed here. Because this study is interested in TED talks, these non-TED talks should be excluded. According to TED's website,<sup>[8](https://www.ted.com/about/conferences/past-teds)</sup> all TED events have \"TED\" in the name, except the \"Mission Blue\" series. It should also be noted that TED-Ed videos are actually animated video shorts created for online consumption only<sup>[9](https://www.ted.com/about/programs-initiatives)</sup> and should also be excluded.\n",
    "2. A good list of categories looks like: \n",
    "<ul>\n",
    "    <li>__TED Yearly__: This is the main event, located somewhere in North America every year.\n",
    "    <li>__TED Global__: The focus and location for this event are international.\n",
    "    <li>__TEDx__: These independently-organized events are not \"TED,\" strictly speaking, but share the name and vision of the organization.\n",
    "    <li>__TED@__: Every year, TED partners with a set of businesses and puts on an event, such as TED@UPS or TED@Intel, with speakers from those companies.\n",
    "    <li>__TED Women__: These events focus on women's abilities to be and create change in the world.\n",
    "    <li>__TED Salon__: Instead of a full-on TED event, these events last just an evening.\n",
    "    <li>__TEDMED__: A focus on health and healthcare from all alngles make these yearly events unique.\n",
    "    <li>__Other__: There have been plenty of one-off events all over the world with many different focuses. This is the catch-all category for any event or type of event with less than 50 videos in the TED archives.\n",
    "</ul>"
   ]
  },
  {
   "cell_type": "code",
   "execution_count": 44,
   "metadata": {
    "extensions": {
     "jupyter_dashboards": {
      "version": 1,
      "views": {
       "grid_default": {
        "hidden": true
       },
       "report_default": {}
      }
     }
    }
   },
   "outputs": [],
   "source": [
    "# C2. Categorize\n",
    "\n",
    "other_list = list()\n",
    "def event_categorizer(event):\n",
    "    \"\"\"\n",
    "    Returns event type based on event text.\n",
    "    \"\"\"\n",
    "    import re\n",
    "    \n",
    "    if re.search('TED[0-9]{4}', event):\n",
    "        return 'TED Yearly'\n",
    "    elif re.search('TEDGl', event):\n",
    "        return 'TED Global'\n",
    "    elif re.search('TEDx', event):\n",
    "        return 'TEDx'\n",
    "    elif re.search('TED@|TEDIndia|TEDNYC', event):\n",
    "        return 'TED@'\n",
    "    elif re.search('Salon', event):\n",
    "        return 'TED Salon'\n",
    "    elif re.search('Women', event):\n",
    "        return 'TED Women'\n",
    "    elif re.search('TEDMED', event):\n",
    "        return 'TEDMED'\n",
    "    elif re.search('TED-Ed', event):\n",
    "        return 'Exclude'\n",
    "    elif re.search('TED|Mission Blue', event):\n",
    "        return 'Other'\n",
    "    else:\n",
    "        return 'Exclude'\n",
    "\n",
    "# apply to df\n",
    "df_stats['event_type'] = df_stats['event'].apply(event_categorizer)"
   ]
  },
  {
   "cell_type": "code",
   "execution_count": 45,
   "metadata": {
    "extensions": {
     "jupyter_dashboards": {
      "version": 1,
      "views": {
       "grid_default": {
        "col": 0,
        "height": 9,
        "hidden": false,
        "row": 73,
        "width": 4
       },
       "report_default": {}
      }
     }
    }
   },
   "outputs": [
    {
     "data": {
      "text/plain": [
       "TED Yearly    978\n",
       "TEDx          471\n",
       "TED Global    464\n",
       "Other         158\n",
       "TED@          141\n",
       "TED Women      96\n",
       "Exclude        95\n",
       "TED Salon      79\n",
       "TEDMED         68\n",
       "Name: event_type, dtype: int64"
      ]
     },
     "execution_count": 45,
     "metadata": {},
     "output_type": "execute_result"
    }
   ],
   "source": [
    "# C3 . Look at new category counts\n",
    "\n",
    "df_stats.event_type.value_counts()"
   ]
  },
  {
   "cell_type": "code",
   "execution_count": 46,
   "metadata": {
    "extensions": {
     "jupyter_dashboards": {
      "version": 1,
      "views": {
       "grid_default": {
        "hidden": true
       },
       "report_default": {}
      }
     }
    }
   },
   "outputs": [],
   "source": [
    "# C4. Remove non-TED videos\n",
    "\n",
    "df_stats = df_stats.loc[df_stats.event_type != \"Exclude\", :].copy()"
   ]
  },
  {
   "cell_type": "code",
   "execution_count": 47,
   "metadata": {
    "extensions": {
     "jupyter_dashboards": {
      "version": 1,
      "views": {
       "grid_default": {
        "col": 4,
        "height": 4,
        "hidden": false,
        "row": 73,
        "width": 4
       },
       "report_default": {}
      }
     }
    }
   },
   "outputs": [],
   "source": [
    "# D. Convert each 'rating' count into a \"percent positive\" number\n",
    "\n",
    "# D1. Convert 'rating' from string to dictionary\n",
    "\n",
    "def rating_to_dict(rating):\n",
    "    \"\"\"\n",
    "    Converts string representation of list of dictionaries/JSON items into dictonary based on 'name'.\n",
    "    \"\"\"\n",
    "    import json  # easy load-in from string\n",
    "    import re\n",
    "\n",
    "    # ignore square brackets, split by curly braces\n",
    "    match = re.findall(\"\\{.*?\\}\", rating[1:-1])\n",
    "    rate_dict = dict()  # empty dict for adding\n",
    "\n",
    "    for i in match:\n",
    "        i = i.replace(\"'\", \"\\\"\")  # json requires double quotes\n",
    "        i = json.loads(i)  # curly braced string to dict\n",
    "        # {rating_name:count} as key:value pair\n",
    "        rate_dict[i['name']] = i['count']\n",
    "\n",
    "    return rate_dict\n",
    "\n",
    "# Apply to df\n",
    "df_stats.loc[:, 'ratings'] = df_stats.loc[:, 'ratings'].apply(rating_to_dict)"
   ]
  },
  {
   "cell_type": "code",
   "execution_count": 48,
   "metadata": {
    "extensions": {
     "jupyter_dashboards": {
      "version": 1,
      "views": {
       "grid_default": {
        "col": 4,
        "height": 10,
        "hidden": false,
        "row": 77,
        "width": 4
       },
       "report_default": {}
      }
     }
    }
   },
   "outputs": [],
   "source": [
    "# D2. Find all ratings\n",
    "\n",
    "all_ratings = set()\n",
    "\n",
    "for i in df_stats.loc[:, 'ratings']:  # iterate through rows\n",
    "    k = list(i.keys())  # return list of dictionary keys (categories)\n",
    "    all_ratings.update(k)  # add new entries, if any"
   ]
  },
  {
   "cell_type": "code",
   "execution_count": 49,
   "metadata": {
    "extensions": {
     "jupyter_dashboards": {
      "version": 1,
      "views": {
       "grid_default": {
        "hidden": true
       },
       "report_default": {}
      }
     }
    },
    "scrolled": true
   },
   "outputs": [],
   "source": [
    "# D3. Create column of percent_positive rating counts\n",
    "\n",
    "pos_rating = list([\n",
    "    'Beautiful', 'Courageous', 'Fascinating', 'Funny', 'Informative',\n",
    "    'Ingenious', 'Inspiring', 'Jaw-dropping', 'Persuasive'\n",
    "])\n",
    "\n",
    "neg_rating = list(['Confusing', 'Longwinded', 'Obnoxious', 'Ok', 'Unconvincing'])\n",
    "\n",
    "def get_pos_pct(x):\n",
    "    \n",
    "    pos = 0\n",
    "    for i in pos_rating:\n",
    "        icount = x.get(i)\n",
    "        if icount:\n",
    "            pos += icount\n",
    "        \n",
    "    neg = 0\n",
    "    for j in neg_rating:\n",
    "        jcount = x.get(j)\n",
    "        if jcount:\n",
    "            neg += jcount\n",
    "        \n",
    "    return pos/(pos + neg)\n",
    "\n",
    "df_stats['pos_pct'] = df_stats['ratings'].apply(get_pos_pct)"
   ]
  },
  {
   "cell_type": "code",
   "execution_count": 50,
   "metadata": {
    "extensions": {
     "jupyter_dashboards": {
      "version": 1,
      "views": {
       "grid_default": {
        "col": 0,
        "height": 16,
        "hidden": false,
        "row": 120,
        "width": 10
       },
       "report_default": {}
      }
     }
    }
   },
   "outputs": [
    {
     "data": {
      "text/html": [
       "<div>\n",
       "<style scoped>\n",
       "    .dataframe tbody tr th:only-of-type {\n",
       "        vertical-align: middle;\n",
       "    }\n",
       "\n",
       "    .dataframe tbody tr th {\n",
       "        vertical-align: top;\n",
       "    }\n",
       "\n",
       "    .dataframe thead th {\n",
       "        text-align: right;\n",
       "    }\n",
       "</style>\n",
       "<table border=\"1\" class=\"dataframe\">\n",
       "  <thead>\n",
       "    <tr style=\"text-align: right;\">\n",
       "      <th></th>\n",
       "      <th>duration</th>\n",
       "      <th>event</th>\n",
       "      <th>name</th>\n",
       "      <th>num_speaker</th>\n",
       "      <th>tags</th>\n",
       "      <th>url</th>\n",
       "      <th>event_type</th>\n",
       "      <th>pos_pct</th>\n",
       "    </tr>\n",
       "  </thead>\n",
       "  <tbody>\n",
       "    <tr>\n",
       "      <th>0</th>\n",
       "      <td>1164</td>\n",
       "      <td>TED2006</td>\n",
       "      <td>Ken Robinson: Do schools kill creativity?</td>\n",
       "      <td>1</td>\n",
       "      <td>['children', 'creativity', 'culture', 'dance',...</td>\n",
       "      <td>https://www.ted.com/talks/ken_robinson_says_sc...</td>\n",
       "      <td>TED Yearly</td>\n",
       "      <td>0.987721</td>\n",
       "    </tr>\n",
       "    <tr>\n",
       "      <th>1</th>\n",
       "      <td>977</td>\n",
       "      <td>TED2006</td>\n",
       "      <td>Al Gore: Averting the climate crisis</td>\n",
       "      <td>1</td>\n",
       "      <td>['alternative energy', 'cars', 'climate change...</td>\n",
       "      <td>https://www.ted.com/talks/al_gore_on_averting_...</td>\n",
       "      <td>TED Yearly</td>\n",
       "      <td>0.793633</td>\n",
       "    </tr>\n",
       "    <tr>\n",
       "      <th>2</th>\n",
       "      <td>1286</td>\n",
       "      <td>TED2006</td>\n",
       "      <td>David Pogue: Simplicity sells</td>\n",
       "      <td>1</td>\n",
       "      <td>['computers', 'entertainment', 'interface desi...</td>\n",
       "      <td>https://www.ted.com/talks/david_pogue_says_sim...</td>\n",
       "      <td>TED Yearly</td>\n",
       "      <td>0.868932</td>\n",
       "    </tr>\n",
       "    <tr>\n",
       "      <th>3</th>\n",
       "      <td>1116</td>\n",
       "      <td>TED2006</td>\n",
       "      <td>Majora Carter: Greening the ghetto</td>\n",
       "      <td>1</td>\n",
       "      <td>['MacArthur grant', 'activism', 'business', 'c...</td>\n",
       "      <td>https://www.ted.com/talks/majora_carter_s_tale...</td>\n",
       "      <td>TED Yearly</td>\n",
       "      <td>0.957178</td>\n",
       "    </tr>\n",
       "    <tr>\n",
       "      <th>4</th>\n",
       "      <td>1190</td>\n",
       "      <td>TED2006</td>\n",
       "      <td>Hans Rosling: The best stats you've ever seen</td>\n",
       "      <td>1</td>\n",
       "      <td>['Africa', 'Asia', 'Google', 'demo', 'economic...</td>\n",
       "      <td>https://www.ted.com/talks/hans_rosling_shows_t...</td>\n",
       "      <td>TED Yearly</td>\n",
       "      <td>0.987782</td>\n",
       "    </tr>\n",
       "  </tbody>\n",
       "</table>\n",
       "</div>"
      ],
      "text/plain": [
       "   duration    event                                           name  \\\n",
       "0      1164  TED2006      Ken Robinson: Do schools kill creativity?   \n",
       "1       977  TED2006           Al Gore: Averting the climate crisis   \n",
       "2      1286  TED2006                  David Pogue: Simplicity sells   \n",
       "3      1116  TED2006             Majora Carter: Greening the ghetto   \n",
       "4      1190  TED2006  Hans Rosling: The best stats you've ever seen   \n",
       "\n",
       "   num_speaker                                               tags  \\\n",
       "0            1  ['children', 'creativity', 'culture', 'dance',...   \n",
       "1            1  ['alternative energy', 'cars', 'climate change...   \n",
       "2            1  ['computers', 'entertainment', 'interface desi...   \n",
       "3            1  ['MacArthur grant', 'activism', 'business', 'c...   \n",
       "4            1  ['Africa', 'Asia', 'Google', 'demo', 'economic...   \n",
       "\n",
       "                                                 url  event_type   pos_pct  \n",
       "0  https://www.ted.com/talks/ken_robinson_says_sc...  TED Yearly  0.987721  \n",
       "1  https://www.ted.com/talks/al_gore_on_averting_...  TED Yearly  0.793633  \n",
       "2  https://www.ted.com/talks/david_pogue_says_sim...  TED Yearly  0.868932  \n",
       "3  https://www.ted.com/talks/majora_carter_s_tale...  TED Yearly  0.957178  \n",
       "4  https://www.ted.com/talks/hans_rosling_shows_t...  TED Yearly  0.987782  "
      ]
     },
     "execution_count": 50,
     "metadata": {},
     "output_type": "execute_result"
    }
   ],
   "source": [
    "# D4 . Remove 'ratings' column to reduce clutter\n",
    "\n",
    "df_stats.drop(columns='ratings', inplace=True)\n",
    "\n",
    "# preview data\n",
    "df_stats.head()"
   ]
  },
  {
   "cell_type": "markdown",
   "metadata": {
    "extensions": {
     "jupyter_dashboards": {
      "version": 1,
      "views": {
       "grid_default": {
        "col": 0,
        "height": 4,
        "hidden": false,
        "row": 82,
        "width": 4
       },
       "report_default": {}
      }
     }
    }
   },
   "source": [
    "Now that the __metadata__ dataset is cleaned, the focus can turn to preparing the transcripts for GloVe representation."
   ]
  },
  {
   "cell_type": "markdown",
   "metadata": {
    "extensions": {
     "jupyter_dashboards": {
      "version": 1,
      "views": {
       "grid_default": {
        "col": 0,
        "height": 5,
        "hidden": false,
        "row": 136,
        "width": 12
       },
       "report_default": {}
      }
     }
    }
   },
   "source": [
    "## <a id='#2 Tran Import'>Transcripts: Library and Data Import</a>\n",
    "\n",
    "The transcripts are also CSVs, so they can be loaded in through pandas for further exploration."
   ]
  },
  {
   "cell_type": "code",
   "execution_count": 51,
   "metadata": {
    "extensions": {
     "jupyter_dashboards": {
      "version": 1,
      "views": {
       "grid_default": {
        "col": 0,
        "height": 20,
        "hidden": false,
        "row": 141,
        "width": 5
       },
       "report_default": {}
      }
     }
    }
   },
   "outputs": [
    {
     "name": "stdout",
     "output_type": "stream",
     "text": [
      "<class 'pandas.core.frame.DataFrame'>\n",
      "RangeIndex: 2467 entries, 0 to 2466\n",
      "Data columns (total 2 columns):\n",
      "transcript    2467 non-null object\n",
      "url           2467 non-null object\n",
      "dtypes: object(2)\n",
      "memory usage: 38.6+ KB\n"
     ]
    },
    {
     "data": {
      "text/html": [
       "<div>\n",
       "<style scoped>\n",
       "    .dataframe tbody tr th:only-of-type {\n",
       "        vertical-align: middle;\n",
       "    }\n",
       "\n",
       "    .dataframe tbody tr th {\n",
       "        vertical-align: top;\n",
       "    }\n",
       "\n",
       "    .dataframe thead th {\n",
       "        text-align: right;\n",
       "    }\n",
       "</style>\n",
       "<table border=\"1\" class=\"dataframe\">\n",
       "  <thead>\n",
       "    <tr style=\"text-align: right;\">\n",
       "      <th></th>\n",
       "      <th>transcript</th>\n",
       "      <th>url</th>\n",
       "    </tr>\n",
       "  </thead>\n",
       "  <tbody>\n",
       "    <tr>\n",
       "      <th>0</th>\n",
       "      <td>Good morning. How are you?(Laughter)It's been ...</td>\n",
       "      <td>https://www.ted.com/talks/ken_robinson_says_sc...</td>\n",
       "    </tr>\n",
       "    <tr>\n",
       "      <th>1</th>\n",
       "      <td>Thank you so much, Chris. And it's truly a gre...</td>\n",
       "      <td>https://www.ted.com/talks/al_gore_on_averting_...</td>\n",
       "    </tr>\n",
       "    <tr>\n",
       "      <th>2</th>\n",
       "      <td>(Music: \"The Sound of Silence,\" Simon &amp; Garfun...</td>\n",
       "      <td>https://www.ted.com/talks/david_pogue_says_sim...</td>\n",
       "    </tr>\n",
       "    <tr>\n",
       "      <th>3</th>\n",
       "      <td>If you're here today — and I'm very happy that...</td>\n",
       "      <td>https://www.ted.com/talks/majora_carter_s_tale...</td>\n",
       "    </tr>\n",
       "    <tr>\n",
       "      <th>4</th>\n",
       "      <td>About 10 years ago, I took on the task to teac...</td>\n",
       "      <td>https://www.ted.com/talks/hans_rosling_shows_t...</td>\n",
       "    </tr>\n",
       "  </tbody>\n",
       "</table>\n",
       "</div>"
      ],
      "text/plain": [
       "                                          transcript  \\\n",
       "0  Good morning. How are you?(Laughter)It's been ...   \n",
       "1  Thank you so much, Chris. And it's truly a gre...   \n",
       "2  (Music: \"The Sound of Silence,\" Simon & Garfun...   \n",
       "3  If you're here today — and I'm very happy that...   \n",
       "4  About 10 years ago, I took on the task to teac...   \n",
       "\n",
       "                                                 url  \n",
       "0  https://www.ted.com/talks/ken_robinson_says_sc...  \n",
       "1  https://www.ted.com/talks/al_gore_on_averting_...  \n",
       "2  https://www.ted.com/talks/david_pogue_says_sim...  \n",
       "3  https://www.ted.com/talks/majora_carter_s_tale...  \n",
       "4  https://www.ted.com/talks/hans_rosling_shows_t...  "
      ]
     },
     "execution_count": 51,
     "metadata": {},
     "output_type": "execute_result"
    }
   ],
   "source": [
    "# 1. Library and Data Import\n",
    "\n",
    "import spacy.lang.en  # GloVe parsing\n",
    "\n",
    "# load language models\n",
    "nlp = spacy.load('en_core_web_lg')\n",
    "\n",
    "# import data\n",
    "df_trans = pd.read_csv('transcripts.csv')\n",
    "df_trans.info()\n",
    "df_trans.head()"
   ]
  },
  {
   "cell_type": "markdown",
   "metadata": {
    "extensions": {
     "jupyter_dashboards": {
      "version": 1,
      "views": {
       "grid_default": {
        "col": 0,
        "height": 4,
        "hidden": false,
        "row": 161,
        "width": 12
       },
       "report_default": {}
      }
     }
    }
   },
   "source": [
    "The data above shows that the data consists of just two columns: __transcript__ and __url__. Unfortunatley, there are transcripts for 2467 of the 2550 videos."
   ]
  },
  {
   "cell_type": "markdown",
   "metadata": {
    "extensions": {
     "jupyter_dashboards": {
      "version": 1,
      "views": {
       "grid_default": {
        "col": 0,
        "height": 7,
        "hidden": false,
        "row": 165,
        "width": 12
       },
       "report_default": {}
      }
     }
    }
   },
   "source": [
    "## <a id='#2 Tran Cleanup'>Transcripts: Data Cleanup</a>\n",
    "\n",
    "The goal in this section is to join the transcript to the correct metadata, fill in any missing data (if possible), remove non-talk information in the transcripts, and find GloVe representations for each row. In outline:\n",
    "\n",
    "A. Identify and discard duplicates  \n",
    "B. Join datasets  \n",
    "C. Identify and fill missing data, where possible  \n",
    "D. Clean text  \n",
    "E. Parse text"
   ]
  },
  {
   "cell_type": "code",
   "execution_count": 52,
   "metadata": {
    "extensions": {
     "jupyter_dashboards": {
      "version": 1,
      "views": {
       "grid_default": {
        "col": 0,
        "height": 21,
        "hidden": false,
        "row": 172,
        "width": 5
       },
       "report_default": {}
      }
     }
    }
   },
   "outputs": [],
   "source": [
    "# A. Identify and discard duplicates\n",
    "\n",
    "# boolean mask of duplicates by URL\n",
    "dup_trans_u = df_trans.duplicated(subset='url')\n",
    "\n",
    "# discard duplicates\n",
    "df_trans = df_trans[~dup_trans_u]"
   ]
  },
  {
   "cell_type": "code",
   "execution_count": 53,
   "metadata": {
    "extensions": {
     "jupyter_dashboards": {
      "version": 1,
      "views": {
       "grid_default": {
        "col": 0,
        "height": 10,
        "hidden": false,
        "row": 86,
        "width": 4
       },
       "report_default": {}
      }
     }
    }
   },
   "outputs": [
    {
     "name": "stdout",
     "output_type": "stream",
     "text": [
      "<class 'pandas.core.frame.DataFrame'>\n",
      "Int64Index: 2455 entries, 0 to 2549\n",
      "Data columns (total 9 columns):\n",
      "duration       2455 non-null int64\n",
      "event          2455 non-null object\n",
      "name           2455 non-null object\n",
      "num_speaker    2455 non-null int64\n",
      "tags           2455 non-null object\n",
      "url            2455 non-null object\n",
      "event_type     2455 non-null object\n",
      "pos_pct        2455 non-null float64\n",
      "transcript     2408 non-null object\n",
      "dtypes: float64(1), int64(2), object(6)\n",
      "memory usage: 191.8+ KB\n"
     ]
    }
   ],
   "source": [
    "# B. Join datasets\n",
    "\n",
    "# join on 'url'\n",
    "df_ted = df_stats.join(df_trans.set_index('url'), on='url')\n",
    "\n",
    "# get new dataframe info\n",
    "df_ted.info()"
   ]
  },
  {
   "cell_type": "markdown",
   "metadata": {
    "extensions": {
     "jupyter_dashboards": {
      "version": 1,
      "views": {
       "grid_default": {
        "col": 4,
        "height": 4,
        "hidden": false,
        "row": 87,
        "width": 4
       },
       "report_default": {}
      }
     }
    }
   },
   "source": [
    "The datasets have been successfully joined, but 47 transcripts are missing. "
   ]
  },
  {
   "cell_type": "code",
   "execution_count": 54,
   "metadata": {
    "extensions": {
     "jupyter_dashboards": {
      "version": 1,
      "views": {
       "grid_default": {
        "col": 5,
        "height": 88,
        "hidden": false,
        "row": 172,
        "width": 4
       },
       "report_default": {}
      }
     }
    }
   },
   "outputs": [
    {
     "data": {
      "text/html": [
       "<div>\n",
       "<style scoped>\n",
       "    .dataframe tbody tr th:only-of-type {\n",
       "        vertical-align: middle;\n",
       "    }\n",
       "\n",
       "    .dataframe tbody tr th {\n",
       "        vertical-align: top;\n",
       "    }\n",
       "\n",
       "    .dataframe thead th {\n",
       "        text-align: right;\n",
       "    }\n",
       "</style>\n",
       "<table border=\"1\" class=\"dataframe\">\n",
       "  <thead>\n",
       "    <tr style=\"text-align: right;\">\n",
       "      <th></th>\n",
       "      <th>name</th>\n",
       "      <th>event_type</th>\n",
       "      <th>duration</th>\n",
       "      <th>pos_pct</th>\n",
       "    </tr>\n",
       "  </thead>\n",
       "  <tbody>\n",
       "    <tr>\n",
       "      <th>1467</th>\n",
       "      <td>Katherine Kuchenbecker: The technology of touch</td>\n",
       "      <td>Other</td>\n",
       "      <td>388</td>\n",
       "      <td>0.960469</td>\n",
       "    </tr>\n",
       "    <tr>\n",
       "      <th>135</th>\n",
       "      <td>Vusi Mahlasela: \"Woza\"</td>\n",
       "      <td>TED Global</td>\n",
       "      <td>299</td>\n",
       "      <td>0.963883</td>\n",
       "    </tr>\n",
       "    <tr>\n",
       "      <th>209</th>\n",
       "      <td>Rokia Traore: \"M'Bifo\"</td>\n",
       "      <td>TED Global</td>\n",
       "      <td>419</td>\n",
       "      <td>0.967555</td>\n",
       "    </tr>\n",
       "    <tr>\n",
       "      <th>237</th>\n",
       "      <td>Rokia Traore: \"Kounandi\"</td>\n",
       "      <td>TED Global</td>\n",
       "      <td>386</td>\n",
       "      <td>0.955075</td>\n",
       "    </tr>\n",
       "    <tr>\n",
       "      <th>696</th>\n",
       "      <td>Sophie Hunger: Songs of secrets and city lights</td>\n",
       "      <td>TED Global</td>\n",
       "      <td>1384</td>\n",
       "      <td>0.889371</td>\n",
       "    </tr>\n",
       "    <tr>\n",
       "      <th>547</th>\n",
       "      <td>Matthew White: The modern euphonium</td>\n",
       "      <td>TED Global</td>\n",
       "      <td>141</td>\n",
       "      <td>0.670236</td>\n",
       "    </tr>\n",
       "    <tr>\n",
       "      <th>58</th>\n",
       "      <td>Pilobolus: A dance of \"Symbiosis\"</td>\n",
       "      <td>TED Yearly</td>\n",
       "      <td>825</td>\n",
       "      <td>0.974089</td>\n",
       "    </tr>\n",
       "    <tr>\n",
       "      <th>2407</th>\n",
       "      <td>Silk Road Ensemble: \"Turceasca\"</td>\n",
       "      <td>TED Yearly</td>\n",
       "      <td>389</td>\n",
       "      <td>0.961290</td>\n",
       "    </tr>\n",
       "    <tr>\n",
       "      <th>512</th>\n",
       "      <td>Vishal Vaid: Hypnotic South Asian improv music</td>\n",
       "      <td>TED Yearly</td>\n",
       "      <td>814</td>\n",
       "      <td>0.631052</td>\n",
       "    </tr>\n",
       "    <tr>\n",
       "      <th>2418</th>\n",
       "      <td>Sō Percussion: \"Music for Wood and Strings\"</td>\n",
       "      <td>TED Yearly</td>\n",
       "      <td>609</td>\n",
       "      <td>0.725806</td>\n",
       "    </tr>\n",
       "    <tr>\n",
       "      <th>446</th>\n",
       "      <td>Eric Lewis: Chaos and harmony on piano</td>\n",
       "      <td>TED Yearly</td>\n",
       "      <td>294</td>\n",
       "      <td>0.685225</td>\n",
       "    </tr>\n",
       "    <tr>\n",
       "      <th>399</th>\n",
       "      <td>Eric Lewis: Piano jazz that rocks</td>\n",
       "      <td>TED Yearly</td>\n",
       "      <td>636</td>\n",
       "      <td>0.752922</td>\n",
       "    </tr>\n",
       "    <tr>\n",
       "      <th>115</th>\n",
       "      <td>Ethel: A string quartet plays \"Blue Room\"</td>\n",
       "      <td>TED Yearly</td>\n",
       "      <td>214</td>\n",
       "      <td>0.861905</td>\n",
       "    </tr>\n",
       "    <tr>\n",
       "      <th>249</th>\n",
       "      <td>Sxip Shirey + Rachelle Garniez: A performance ...</td>\n",
       "      <td>TED Yearly</td>\n",
       "      <td>186</td>\n",
       "      <td>0.542986</td>\n",
       "    </tr>\n",
       "    <tr>\n",
       "      <th>599</th>\n",
       "      <td>Sivamani: Rhythm is everything, everywhere</td>\n",
       "      <td>TED@</td>\n",
       "      <td>1000</td>\n",
       "      <td>0.871076</td>\n",
       "    </tr>\n",
       "    <tr>\n",
       "      <th>1149</th>\n",
       "      <td>Lucianne Walkowicz: Look up for a change</td>\n",
       "      <td>TEDx</td>\n",
       "      <td>669</td>\n",
       "      <td>0.939840</td>\n",
       "    </tr>\n",
       "    <tr>\n",
       "      <th>1156</th>\n",
       "      <td>Jeffrey Kluger: The sibling bond</td>\n",
       "      <td>TEDx</td>\n",
       "      <td>1254</td>\n",
       "      <td>0.931303</td>\n",
       "    </tr>\n",
       "    <tr>\n",
       "      <th>1169</th>\n",
       "      <td>Kelli Anderson: Design to challenge reality</td>\n",
       "      <td>TEDx</td>\n",
       "      <td>953</td>\n",
       "      <td>0.952984</td>\n",
       "    </tr>\n",
       "    <tr>\n",
       "      <th>1178</th>\n",
       "      <td>Scott Summit: Beautiful artificial limbs</td>\n",
       "      <td>TEDx</td>\n",
       "      <td>663</td>\n",
       "      <td>0.979003</td>\n",
       "    </tr>\n",
       "    <tr>\n",
       "      <th>1179</th>\n",
       "      <td>Mark Raymond: Victims of the city</td>\n",
       "      <td>TEDx</td>\n",
       "      <td>1191</td>\n",
       "      <td>0.715867</td>\n",
       "    </tr>\n",
       "    <tr>\n",
       "      <th>1191</th>\n",
       "      <td>Daniel Schnitzer: Inventing is the easy part. ...</td>\n",
       "      <td>TEDx</td>\n",
       "      <td>338</td>\n",
       "      <td>0.931638</td>\n",
       "    </tr>\n",
       "    <tr>\n",
       "      <th>1144</th>\n",
       "      <td>Inara George: \"Family Tree\"</td>\n",
       "      <td>TEDx</td>\n",
       "      <td>199</td>\n",
       "      <td>0.827957</td>\n",
       "    </tr>\n",
       "    <tr>\n",
       "      <th>1223</th>\n",
       "      <td>Rick Guidotti: From stigma to supermodel</td>\n",
       "      <td>TEDx</td>\n",
       "      <td>1084</td>\n",
       "      <td>0.962627</td>\n",
       "    </tr>\n",
       "    <tr>\n",
       "      <th>1229</th>\n",
       "      <td>José Bowen: Beethoven the businessman</td>\n",
       "      <td>TEDx</td>\n",
       "      <td>769</td>\n",
       "      <td>0.780534</td>\n",
       "    </tr>\n",
       "    <tr>\n",
       "      <th>1237</th>\n",
       "      <td>Melissa Garren: The sea we've hardly seen</td>\n",
       "      <td>TEDx</td>\n",
       "      <td>697</td>\n",
       "      <td>0.897479</td>\n",
       "    </tr>\n",
       "    <tr>\n",
       "      <th>1301</th>\n",
       "      <td>Giles Duley: When a reporter becomes the story</td>\n",
       "      <td>TEDx</td>\n",
       "      <td>711</td>\n",
       "      <td>0.994307</td>\n",
       "    </tr>\n",
       "    <tr>\n",
       "      <th>1307</th>\n",
       "      <td>Hannah Fry: Is life really that complex?</td>\n",
       "      <td>TEDx</td>\n",
       "      <td>602</td>\n",
       "      <td>0.835404</td>\n",
       "    </tr>\n",
       "    <tr>\n",
       "      <th>1184</th>\n",
       "      <td>Jer Thorp: Make data more human</td>\n",
       "      <td>TEDx</td>\n",
       "      <td>1042</td>\n",
       "      <td>0.905181</td>\n",
       "    </tr>\n",
       "    <tr>\n",
       "      <th>1141</th>\n",
       "      <td>Keith Nolan: Deaf in the military</td>\n",
       "      <td>TEDx</td>\n",
       "      <td>1118</td>\n",
       "      <td>0.952459</td>\n",
       "    </tr>\n",
       "    <tr>\n",
       "      <th>1133</th>\n",
       "      <td>Aleph Molinari: Let's bridge the digital divide!</td>\n",
       "      <td>TEDx</td>\n",
       "      <td>594</td>\n",
       "      <td>0.895349</td>\n",
       "    </tr>\n",
       "    <tr>\n",
       "      <th>474</th>\n",
       "      <td>Qi Zhang: An electrifying organ performance</td>\n",
       "      <td>TEDx</td>\n",
       "      <td>185</td>\n",
       "      <td>0.883860</td>\n",
       "    </tr>\n",
       "    <tr>\n",
       "      <th>1053</th>\n",
       "      <td>Paul Lewis: How mobile phones helped solve two...</td>\n",
       "      <td>TEDx</td>\n",
       "      <td>1013</td>\n",
       "      <td>0.967033</td>\n",
       "    </tr>\n",
       "    <tr>\n",
       "      <th>1060</th>\n",
       "      <td>Roger McNamee: 6 ways to save the internet</td>\n",
       "      <td>TEDx</td>\n",
       "      <td>933</td>\n",
       "      <td>0.691898</td>\n",
       "    </tr>\n",
       "    <tr>\n",
       "      <th>1061</th>\n",
       "      <td>Michael Nielsen: Open science now!</td>\n",
       "      <td>TEDx</td>\n",
       "      <td>982</td>\n",
       "      <td>0.871233</td>\n",
       "    </tr>\n",
       "    <tr>\n",
       "      <th>1067</th>\n",
       "      <td>Gabe Zichermann: How games make kids smarter</td>\n",
       "      <td>TEDx</td>\n",
       "      <td>978</td>\n",
       "      <td>0.910579</td>\n",
       "    </tr>\n",
       "    <tr>\n",
       "      <th>1068</th>\n",
       "      <td>Natalie Warne: Being young and making an impact</td>\n",
       "      <td>TEDx</td>\n",
       "      <td>769</td>\n",
       "      <td>0.967194</td>\n",
       "    </tr>\n",
       "    <tr>\n",
       "      <th>1079</th>\n",
       "      <td>Leslie Dodson: Don't misrepresent Africa</td>\n",
       "      <td>TEDx</td>\n",
       "      <td>686</td>\n",
       "      <td>0.792350</td>\n",
       "    </tr>\n",
       "    <tr>\n",
       "      <th>1134</th>\n",
       "      <td>Nancy Duarte: The secret structure of great talks</td>\n",
       "      <td>TEDx</td>\n",
       "      <td>1090</td>\n",
       "      <td>0.942203</td>\n",
       "    </tr>\n",
       "    <tr>\n",
       "      <th>1086</th>\n",
       "      <td>Klaus Stadlmann: The world's smallest 3D printer</td>\n",
       "      <td>TEDx</td>\n",
       "      <td>508</td>\n",
       "      <td>0.946164</td>\n",
       "    </tr>\n",
       "    <tr>\n",
       "      <th>1094</th>\n",
       "      <td>Thomas Pogge: Medicine for the 99 percent</td>\n",
       "      <td>TEDx</td>\n",
       "      <td>1085</td>\n",
       "      <td>0.784114</td>\n",
       "    </tr>\n",
       "    <tr>\n",
       "      <th>1104</th>\n",
       "      <td>Nate Garvis: Change our culture, change our world</td>\n",
       "      <td>TEDx</td>\n",
       "      <td>632</td>\n",
       "      <td>0.839733</td>\n",
       "    </tr>\n",
       "    <tr>\n",
       "      <th>1111</th>\n",
       "      <td>Kirk Sorensen: Thorium, an alternative nuclear...</td>\n",
       "      <td>TEDx</td>\n",
       "      <td>599</td>\n",
       "      <td>0.974310</td>\n",
       "    </tr>\n",
       "    <tr>\n",
       "      <th>1112</th>\n",
       "      <td>Charles Hazlewood + British Paraorchestra: The...</td>\n",
       "      <td>TEDx</td>\n",
       "      <td>816</td>\n",
       "      <td>0.983221</td>\n",
       "    </tr>\n",
       "    <tr>\n",
       "      <th>1118</th>\n",
       "      <td>Scott Rickard: The beautiful math behind the w...</td>\n",
       "      <td>TEDx</td>\n",
       "      <td>583</td>\n",
       "      <td>0.823529</td>\n",
       "    </tr>\n",
       "    <tr>\n",
       "      <th>1125</th>\n",
       "      <td>Bjarke Ingels: Hedonistic sustainability</td>\n",
       "      <td>TEDx</td>\n",
       "      <td>1335</td>\n",
       "      <td>0.977167</td>\n",
       "    </tr>\n",
       "    <tr>\n",
       "      <th>1087</th>\n",
       "      <td>David Damberger: What happens when an NGO admi...</td>\n",
       "      <td>TEDx</td>\n",
       "      <td>780</td>\n",
       "      <td>0.985117</td>\n",
       "    </tr>\n",
       "    <tr>\n",
       "      <th>1105</th>\n",
       "      <td>Michelle Borkin: Can astronomers help doctors?</td>\n",
       "      <td>TEDx</td>\n",
       "      <td>581</td>\n",
       "      <td>0.912378</td>\n",
       "    </tr>\n",
       "  </tbody>\n",
       "</table>\n",
       "</div>"
      ],
      "text/plain": [
       "                                                   name  event_type  duration  \\\n",
       "1467    Katherine Kuchenbecker: The technology of touch       Other       388   \n",
       "135                              Vusi Mahlasela: \"Woza\"  TED Global       299   \n",
       "209                              Rokia Traore: \"M'Bifo\"  TED Global       419   \n",
       "237                            Rokia Traore: \"Kounandi\"  TED Global       386   \n",
       "696     Sophie Hunger: Songs of secrets and city lights  TED Global      1384   \n",
       "547                 Matthew White: The modern euphonium  TED Global       141   \n",
       "58                    Pilobolus: A dance of \"Symbiosis\"  TED Yearly       825   \n",
       "2407                    Silk Road Ensemble: \"Turceasca\"  TED Yearly       389   \n",
       "512      Vishal Vaid: Hypnotic South Asian improv music  TED Yearly       814   \n",
       "2418        Sō Percussion: \"Music for Wood and Strings\"  TED Yearly       609   \n",
       "446              Eric Lewis: Chaos and harmony on piano  TED Yearly       294   \n",
       "399                   Eric Lewis: Piano jazz that rocks  TED Yearly       636   \n",
       "115           Ethel: A string quartet plays \"Blue Room\"  TED Yearly       214   \n",
       "249   Sxip Shirey + Rachelle Garniez: A performance ...  TED Yearly       186   \n",
       "599          Sivamani: Rhythm is everything, everywhere        TED@      1000   \n",
       "1149           Lucianne Walkowicz: Look up for a change        TEDx       669   \n",
       "1156                   Jeffrey Kluger: The sibling bond        TEDx      1254   \n",
       "1169        Kelli Anderson: Design to challenge reality        TEDx       953   \n",
       "1178           Scott Summit: Beautiful artificial limbs        TEDx       663   \n",
       "1179                  Mark Raymond: Victims of the city        TEDx      1191   \n",
       "1191  Daniel Schnitzer: Inventing is the easy part. ...        TEDx       338   \n",
       "1144                        Inara George: \"Family Tree\"        TEDx       199   \n",
       "1223           Rick Guidotti: From stigma to supermodel        TEDx      1084   \n",
       "1229              José Bowen: Beethoven the businessman        TEDx       769   \n",
       "1237          Melissa Garren: The sea we've hardly seen        TEDx       697   \n",
       "1301     Giles Duley: When a reporter becomes the story        TEDx       711   \n",
       "1307           Hannah Fry: Is life really that complex?        TEDx       602   \n",
       "1184                    Jer Thorp: Make data more human        TEDx      1042   \n",
       "1141                  Keith Nolan: Deaf in the military        TEDx      1118   \n",
       "1133   Aleph Molinari: Let's bridge the digital divide!        TEDx       594   \n",
       "474         Qi Zhang: An electrifying organ performance        TEDx       185   \n",
       "1053  Paul Lewis: How mobile phones helped solve two...        TEDx      1013   \n",
       "1060         Roger McNamee: 6 ways to save the internet        TEDx       933   \n",
       "1061                 Michael Nielsen: Open science now!        TEDx       982   \n",
       "1067       Gabe Zichermann: How games make kids smarter        TEDx       978   \n",
       "1068    Natalie Warne: Being young and making an impact        TEDx       769   \n",
       "1079           Leslie Dodson: Don't misrepresent Africa        TEDx       686   \n",
       "1134  Nancy Duarte: The secret structure of great talks        TEDx      1090   \n",
       "1086   Klaus Stadlmann: The world's smallest 3D printer        TEDx       508   \n",
       "1094          Thomas Pogge: Medicine for the 99 percent        TEDx      1085   \n",
       "1104  Nate Garvis: Change our culture, change our world        TEDx       632   \n",
       "1111  Kirk Sorensen: Thorium, an alternative nuclear...        TEDx       599   \n",
       "1112  Charles Hazlewood + British Paraorchestra: The...        TEDx       816   \n",
       "1118  Scott Rickard: The beautiful math behind the w...        TEDx       583   \n",
       "1125           Bjarke Ingels: Hedonistic sustainability        TEDx      1335   \n",
       "1087  David Damberger: What happens when an NGO admi...        TEDx       780   \n",
       "1105     Michelle Borkin: Can astronomers help doctors?        TEDx       581   \n",
       "\n",
       "       pos_pct  \n",
       "1467  0.960469  \n",
       "135   0.963883  \n",
       "209   0.967555  \n",
       "237   0.955075  \n",
       "696   0.889371  \n",
       "547   0.670236  \n",
       "58    0.974089  \n",
       "2407  0.961290  \n",
       "512   0.631052  \n",
       "2418  0.725806  \n",
       "446   0.685225  \n",
       "399   0.752922  \n",
       "115   0.861905  \n",
       "249   0.542986  \n",
       "599   0.871076  \n",
       "1149  0.939840  \n",
       "1156  0.931303  \n",
       "1169  0.952984  \n",
       "1178  0.979003  \n",
       "1179  0.715867  \n",
       "1191  0.931638  \n",
       "1144  0.827957  \n",
       "1223  0.962627  \n",
       "1229  0.780534  \n",
       "1237  0.897479  \n",
       "1301  0.994307  \n",
       "1307  0.835404  \n",
       "1184  0.905181  \n",
       "1141  0.952459  \n",
       "1133  0.895349  \n",
       "474   0.883860  \n",
       "1053  0.967033  \n",
       "1060  0.691898  \n",
       "1061  0.871233  \n",
       "1067  0.910579  \n",
       "1068  0.967194  \n",
       "1079  0.792350  \n",
       "1134  0.942203  \n",
       "1086  0.946164  \n",
       "1094  0.784114  \n",
       "1104  0.839733  \n",
       "1111  0.974310  \n",
       "1112  0.983221  \n",
       "1118  0.823529  \n",
       "1125  0.977167  \n",
       "1087  0.985117  \n",
       "1105  0.912378  "
      ]
     },
     "execution_count": 54,
     "metadata": {},
     "output_type": "execute_result"
    }
   ],
   "source": [
    "# C. Identify and fill missing data, where possible\n",
    "\n",
    "# C1. find missing data\n",
    "df_ted.loc[df_ted['transcript'].isna(), ['name', 'event_type', 'duration', 'pos_pct']].sort_values('event_type')"
   ]
  },
  {
   "cell_type": "markdown",
   "metadata": {
    "extensions": {
     "jupyter_dashboards": {
      "version": 1,
      "views": {
       "grid_default": {
        "col": 0,
        "height": 7,
        "hidden": false,
        "row": 260,
        "width": 12
       },
       "report_default": {}
      }
     }
    }
   },
   "source": [
    "Looking at the above snippets of names, descriptions, events, and durations, it seems a couple of things are going on in the data. \n",
    "\n",
    "1. Some of the \"talks\" are actually some kind of performace (music, dance, poetry, etc.) and lack a transcript.\n",
    "2. The only non-performance talks with no transcripts are from TEDx (independent TED events).\n",
    "\n",
    "Because this project deals with \"talks,\" all of the videos with no actual \"talk\" should be removed, whether or not they have a transcript. In instances where there are both a \"talk\" and a performance, the transcript should be included with the lyrics removed (if given). \n",
    "\n",
    "It is unclear whether these transcripts were left out because they were unavialable or because of an automation error. All URLs must be visited to see whether a transcript is (now) available and imported where appropriate."
   ]
  },
  {
   "cell_type": "code",
   "execution_count": 55,
   "metadata": {
    "extensions": {
     "jupyter_dashboards": {
      "version": 1,
      "views": {
       "grid_default": {
        "col": 4,
        "height": 12,
        "hidden": false,
        "row": 91,
        "width": 4
       },
       "report_default": {}
      }
     }
    }
   },
   "outputs": [],
   "source": [
    "# C2. Manually check for transcript availability\n",
    "\n",
    "# print, then visit each in this list (omitted for formatting)\n",
    "missing_urls = df_ted.loc[(df_ted['transcript'].isna()), 'url']"
   ]
  },
  {
   "cell_type": "markdown",
   "metadata": {
    "extensions": {
     "jupyter_dashboards": {
      "version": 1,
      "views": {
       "grid_default": {
        "col": 0,
        "height": 4,
        "hidden": false,
        "row": 267,
        "width": 12
       },
       "report_default": {}
      }
     }
    }
   },
   "source": [
    "Ten transcripts had been added since September 21, 2017. Because the data is now available, the missing transcripts were copied to a text document and need to be incorporated into the dataset now."
   ]
  },
  {
   "cell_type": "code",
   "execution_count": 56,
   "metadata": {
    "extensions": {
     "jupyter_dashboards": {
      "version": 1,
      "views": {
       "grid_default": {
        "col": 5,
        "height": 11,
        "hidden": false,
        "row": 141,
        "width": 4
       },
       "report_default": {}
      }
     }
    }
   },
   "outputs": [],
   "source": [
    "# C3. Import New Transcripts\n",
    "\n",
    "with open('raw_transcripts.txt', 'r') as file:\n",
    "    text = file.readlines()  # read each line in as a list\n",
    "    \n",
    "text_dict = dict()  # initialize dict for talks\n",
    "talk = \"\"\n",
    "for line in text:\n",
    "    if line == '\\n':  # skip newlines\n",
    "        continue\n",
    "    elif line[0:4] == 'http':  # talks are identified by URL\n",
    "        talk = line  # create new dict key for each URL\n",
    "        text_dict[talk] = \"\"  # set dict key as URL and value as blank string\n",
    "    elif re.match('\\d\\d', line):  # skip timestamps\n",
    "        continue\n",
    "    else:\n",
    "        text_dict[talk] += line  # append each line to the last"
   ]
  },
  {
   "cell_type": "code",
   "execution_count": 57,
   "metadata": {
    "extensions": {
     "jupyter_dashboards": {
      "version": 1,
      "views": {
       "grid_default": {
        "col": 0,
        "height": 20,
        "hidden": false,
        "row": 193,
        "width": 4
       },
       "report_default": {}
      }
     }
    }
   },
   "outputs": [],
   "source": [
    "# C4 . Add New Transcripts\n",
    "\n",
    "df_ted.set_index('url', inplace=True)  # index by URL\n",
    "for url, text in text_dict.items():  # iterate through dictionary\n",
    "    df_ted.loc[url, 'transcript'] = text  # from dictionary: {URL: transcript text}\n",
    "df_ted.reset_index(inplace=True)  # put URL back as a column and re-index by arbitrary integers"
   ]
  },
  {
   "cell_type": "code",
   "execution_count": 58,
   "metadata": {
    "extensions": {
     "jupyter_dashboards": {
      "version": 1,
      "views": {
       "grid_default": {
        "col": 0,
        "height": 10,
        "hidden": false,
        "row": 213,
        "width": 4
       },
       "report_default": {}
      }
     }
    }
   },
   "outputs": [],
   "source": [
    "# C5. Remove talks with no transcript\n",
    "drop_indices = df_ted.loc[df_ted['transcript'].isna(), :].index  # indices to drop\n",
    "df_ted.drop(drop_indices, inplace=True)"
   ]
  },
  {
   "cell_type": "code",
   "execution_count": 59,
   "metadata": {
    "extensions": {
     "jupyter_dashboards": {
      "version": 1,
      "views": {
       "grid_default": {
        "col": 0,
        "height": 12,
        "hidden": false,
        "row": 223,
        "width": 4
       },
       "report_default": {}
      }
     }
    }
   },
   "outputs": [
    {
     "data": {
      "text/plain": [
       "'Thank you. I have to tell you I\\'m both challenged and excited. My excitement is: I get a chance to give something back. My challenge is: the shortest seminar I usually do is 50 hours.(Laughter)I\\'m not exaggerating. I do weekends — I do more, obviously, I also coach people — but I\\'m into immersion, because how did you learn language? Not just by learning principles, you got in it and you did it so often that it became real.The bottom line of why I\\'m here, besides being a crazy mofo, is that — I\\'m not here to motivate you, you don\\'t need that, obviously. Often that\\'s what people think I do, and it\\'s the furthest thing from it. What happens, though, is people say to me, \"I don\\'t need any motivation.\" But that\\'s not what I do. I\\'m the \"why\" guy. I want to know why you do what you do.What is your motive for action? What is it that drives you in your life today? Not 10 years ago. Are you running the same pattern? Because I believe that the invisible force of internal drive, activated, is the'"
      ]
     },
     "execution_count": 59,
     "metadata": {},
     "output_type": "execute_result"
    }
   ],
   "source": [
    "# D. Clean text\n",
    "\n",
    "# D1. View text sample for example problems\n",
    "df_ted.loc[5, 'transcript'][:1000]"
   ]
  },
  {
   "cell_type": "markdown",
   "metadata": {
    "extensions": {
     "jupyter_dashboards": {
      "version": 1,
      "views": {
       "grid_default": {
        "col": 0,
        "height": 4,
        "hidden": false,
        "row": 271,
        "width": 12
       },
       "report_default": {}
      }
     }
    }
   },
   "source": [
    "There are a few issues with the text as-is:\n",
    "1. All of the newlines are missing, causing the last word of one line to be mashed up with the first of the next.\n",
    "2. There are sounds and audience responses in parentheses, which are not part of the text. Having a count of these instances, however, could be useful."
   ]
  },
  {
   "cell_type": "code",
   "execution_count": 60,
   "metadata": {
    "extensions": {
     "jupyter_dashboards": {
      "version": 1,
      "views": {
       "grid_default": {
        "col": 0,
        "height": 12,
        "hidden": false,
        "row": 235,
        "width": 4
       },
       "report_default": {}
      }
     }
    }
   },
   "outputs": [
    {
     "name": "stdout",
     "output_type": "stream",
     "text": [
      "30 most common: \n",
      " [('Laughter', 9975), ('Applause', 5375), ('Music', 600), ('Video', 332), ('Audio', 56), ('Laughs', 51), ('Singing', 45), ('Music ends', 44), ('Applause ends', 42), ('Cheers', 40), ('Beatboxing', 23), ('English', 17), ('Cheering', 16), ('Whistling', 16), ('k', 16), ('Sighs', 15), ('Guitar', 14), ('Guitar strum', 14), ('Sings', 13), ('Audience', 12), ('Beep', 12), ('Clicks metronome', 12), ('Drum sounds', 10), ('Marimba sounds', 10), ('Clapping', 10), ('Beeps', 9), ('Drums', 9), ('In Chinese', 9), ('Arabic', 9), ('Laughter ends', 8)]\n",
      "\n",
      " How many different parentheses: \n",
      " 820\n"
     ]
    }
   ],
   "source": [
    "# D2. Create counts of all things in parentheses\n",
    "\n",
    "def export_parens(x):\n",
    "    \"\"\"\n",
    "    Creates counts of all things in parentheses\n",
    "    \"\"\"\n",
    "    from collections import Counter\n",
    "    \n",
    "    parens = re.findall('\\(.+?\\)', x)  # finds all things between parenthes and creates list of them\n",
    "    for i in range(len(parens)):\n",
    "        parens[i] = parens[i][1:-1]\n",
    "    counts = Counter(parens)\n",
    "    \n",
    "    return counts\n",
    "\n",
    "# create column of parentheses counts\n",
    "df_ted.loc[:, 'parentheses'] = df_ted.loc[:, 'transcript'].apply(export_parens)\n",
    "\n",
    "from collections import Counter\n",
    "parens = df_ted.loc[:, 'parentheses'].sum()\n",
    "\n",
    "print(\"30 most common: \\n\", parens.most_common(30))\n",
    "print(\"\\n How many different parentheses: \\n\", len(parens))\n"
   ]
  },
  {
   "cell_type": "markdown",
   "metadata": {
    "extensions": {
     "jupyter_dashboards": {
      "version": 1,
      "views": {
       "grid_default": {
        "col": 0,
        "height": 8,
        "hidden": false,
        "row": 275,
        "width": 12
       },
       "report_default": {}
      }
     }
    }
   },
   "source": [
    "It is apparent that not all of the parentheses are audience sounds and in some cases, the transcript doesn't have a close-parentheses, meaning some of the actual text is combined in these instances (not shown above). Of the 820 different options, \"Laughter\" and \"Applause\" are the most common. The top 30 by count show that the majority show up less than 10 times. It seems reasonable that filtering out the top 30 should catch most of the garbage text without removing the actual transcripts.\n",
    "\n",
    "Music also shows up, so talks that are actually just lyrics with little to no \"talk\" need to be filtered out. Looking at these \"music\" transcripts, it can be seen that all lyrics are surrounded by \"♫\" symbols. Taking out everything between the \"♫\" symbols and then filtering out talks with little to no remaining text should leave actual \"talks.\"\n",
    "\n",
    "Finally, because things like music, dance, and video have an impact that cannot be captured through the transcript, getting a count of the number of times they are shown could be useful. Similarly, perhaps the number of times \"(Laughter)\" or \"(Applause)\" shows up could give us an indicator of how positively or negatively a talk was received."
   ]
  },
  {
   "cell_type": "code",
   "execution_count": 61,
   "metadata": {
    "extensions": {
     "jupyter_dashboards": {
      "version": 1,
      "views": {
       "grid_default": {
        "hidden": true
       },
       "report_default": {}
      }
     }
    }
   },
   "outputs": [],
   "source": [
    "# D3. Create Counters for laughter, applause, and music\n",
    "\n",
    "def parens_adder(x, cats):\n",
    "    assert type(cats) == list\n",
    "    total = 0    \n",
    "    for i in cats:\n",
    "        icount = x.get(i)\n",
    "        if icount:\n",
    "            total += icount  \n",
    "    return total\n",
    "     \n",
    "df_ted.loc[:, 'laughter'] = df_ted.loc[:, 'parentheses'].apply(parens_adder, cats=['Laughter', 'Laughs'])\n",
    "df_ted.loc[:, 'applause'] = df_ted.loc[:, 'parentheses'].apply(parens_adder, cats=['Applause', 'Cheers', 'Cheering', 'Whistling', 'Clapping'])\n",
    "df_ted.loc[:, 'music'] = df_ted.loc[:, 'parentheses'].apply(parens_adder, cats=['Singing', 'Beatboxing', 'Guitar', 'Guitar strum', 'Sings', 'Clicks metronome', 'Drum sounds', 'Marimba sounds', 'Drums'])"
   ]
  },
  {
   "cell_type": "code",
   "execution_count": 62,
   "metadata": {
    "extensions": {
     "jupyter_dashboards": {
      "version": 1,
      "views": {
       "grid_default": {
        "hidden": true
       },
       "report_default": {}
      }
     }
    }
   },
   "outputs": [],
   "source": [
    "# D4. Create boolean columns for lyrics, music, and dance\n",
    "\n",
    "df_ted.loc[:, 'has_note'] = df_ted.loc[:, 'transcript'].apply(lambda x: bool(re.search(\"♫|♪\", x)))\n",
    "df_ted.loc[:, 'has_music'] = df_ted.loc[:, 'tags'].apply(lambda x: 'music' in x)\n",
    "df_ted.loc[:, 'has_dance'] = df_ted.loc[:, 'tags'].apply(lambda x: 'danc' in x)\n",
    "\n",
    "for i in list(df_ted.index):\n",
    "    if ((df_ted.loc[i, 'music'] > 0) or (df_ted.loc[i, 'has_note'] == True)) and (df_ted.loc[i, 'has_music'] == False):\n",
    "        df_ted.loc[i, 'has_music'] = True\n",
    "        \n",
    "remove_me = ['music']        \n",
    "df_ted.drop(columns='music', inplace=True)"
   ]
  },
  {
   "cell_type": "code",
   "execution_count": 63,
   "metadata": {
    "extensions": {
     "jupyter_dashboards": {
      "version": 1,
      "views": {
       "grid_default": {
        "hidden": true
       },
       "report_default": {}
      }
     }
    }
   },
   "outputs": [],
   "source": [
    "# D5. Remove everything between high-count parentheses and music notes\n",
    "\n",
    "remove_list = list()\n",
    "for i in parens.most_common(30):\n",
    "    remove_list.append(\"\\(\"+i[0]+\"\\)\")\n",
    "remove_list = \"|\".join(remove_list)\n",
    "remove_list += '|♫.+?♫|♪.+?♪'\n",
    "\n",
    "def remove_paren_music(x):\n",
    "    x = re.sub(remove_list, ' ', x)\n",
    "    return x\n",
    "\n",
    "df_ted.loc[:, 'transcript'] = df_ted.loc[:, 'transcript'].apply(remove_paren_music)"
   ]
  },
  {
   "cell_type": "code",
   "execution_count": 64,
   "metadata": {
    "extensions": {
     "jupyter_dashboards": {
      "version": 1,
      "views": {
       "grid_default": {
        "col": 0,
        "height": 12,
        "hidden": false,
        "row": 247,
        "width": 4
       },
       "report_default": {}
      }
     }
    }
   },
   "outputs": [
    {
     "name": "stdout",
     "output_type": "stream",
     "text": [
      "I'd like to begin this song I wrote about ceaseless yearning and never-ending want with a poem of popular Petrarchan paradoxes by Sir Thomas Wyatt the Elder: \"I find no peace, and all my war is done; I fear and hope, I burn and freeze like ice; I fly above the wind, and yet I cannot arise; And naught I have, and all the world I seize upon.\" \n",
      "\n",
      "Okay. Everyone! Chris Anderson: Jill Sobule! \n",
      "\n",
      "Thank you very much. Now, I've got a story for you. When I arrived off the plane, after a very long journey from the West of England, my computer, my beloved laptop, had gone mad, and had — oh! — a bit like that! — and the display on it — anyway, the whole thing had burst. And I went to the IT guys here and a gentleman mended my computer, and then he said, \"What are you doing here?\" and I said \"I'm playing the cello and I'm doing a bit of singing,\" and he said, \"Oh, I sort of play the cello as well.\" And I said, \"Do you really?\" Anyway, so you're in for a treat, because he's fantastic, and his name's Mark. I am also joined by my partner in crime, Thomas Dolby. This song is called \"Farther than the Sun.\" Thank you very much. \n",
      "\n",
      "This is about a place in London called Kiteflyer's Hill where I used to go and spend hours going \"When is he coming back? When is he coming back?\" So this is another one dedicated to that guy . . . who I've got over. But this is \"Kiteflyer's Hill.\" It's a beautiful song written by a guy called Martin Evan, actually, for me. Boo Hewerdine, Thomas Dolby, thank you very much for inviting me. It's been a blessing singing for you. Thank you very much. Gracias. Thank you very much. \n",
      "\n",
      "This song is one of Thomas' favorites, called \"What You Do with What You've Got.\" Thank you very much. \n",
      "\n",
      "Thomas Dolby: For pure pleasure please welcome the lovely, the delectable, and the bilingual Rachelle Garniez. (Bells) (Trumpet) Rachelle Garniez: \n",
      "\n",
      "(Fiddle and synthesizer) (Fiddle and synthesizer) \n",
      "\n",
      "Has anyone ever been to Aspen, Colorado? It's not a joke yet; those aren't the jokes. Is this thing off? I went to Aspen recently and stumbled into this song. \"Are you . . . ?\" \"No.\" What else can we do? elegantly. \n",
      "\n",
      " \n",
      "\n",
      "Ladies and gentlemen, the history of music and television on the Internet in three minutes. A TED medley — a TEDley. And now, ladies and gentlemen, a tribute to the Recording Industry Association of America — the RIAA! \n",
      "\n",
      "But anyway, this is about the evils of science, so I think it’s perfect. \"Oh Clonie, how I love you.\"\" Ha, I'm the only person I ever loved.\" Thank you. \n",
      "\n",
      "Thank you so much. This is a song that came about because I think it's difficult to be in the world and not be aware of what's going on, and the wars and so forth. This song kind of came out of all of that. And I wrote a lot of happy songs on my first record, which I still stand by, but this has got something else in it. It's called \"Peace on Earth.\" (Trumpet sounds) (Trumpet sounds) \n",
      "\n",
      "I’m Dennis Kucinich and I approved this message. Thank you. Thank you. Thank you. I asked my mother, you know, should I say anything in support of anyone? And she said, \"Oh no! Just dis everybody, except Ralph Nader.\" Thank you. Well, thank you so much. \n",
      "\n",
      "Hello everyone. And so the two of us are here to give you an example of creation. And I'm going to be folding one of Robert Lang's models. And this is the piece of paper it will be made from, and you can see all of the folds that are needed for it. And Rufus is going to be doing some improvisation on his custom, five-string electric cello, and it's very exciting to listen to him. Are you ready to go? OK. Just to make it a little bit more exciting. All right. Take it away, Rufus. All right. There you go. \n",
      "\n",
      "I’d like to dedicate this next song to Carmelo, who was put to sleep a couple of days ago, because he got too old. But apparently he was a very nice dog and he always let the cat sleep in the dog bed. Good dog! Thank you. \n",
      "\n",
      "Let's just get started here. Okay, just a moment. (Whirring) All right. Oh, sorry. Thank you. \n",
      "\n",
      "Chris Anderson: And now we go live to Caracas to see one of Maestro Abreu's great proteges. He is the new musical director of the Los Angeles Philharmonic Orchestra. He's the greatest young conductor in the world. Gustavo Dudamel! Gustavo Dudamel: Hi everybody in L. A. Hi Quincy. Hi Maestro Zander. Hi Mark. We are very happy to have the possibility to be with you in the other side of the world. We can speak only with music. We are very happy because we have the opportunity to have this angel in the world — not only in our country, Venezuela, but in our world. He has given us the possibility to have dreams and to make true the dreams. And here are the results of this wonderful project that is The System in Venezuela. We hope to have, our Maestro, to have orchestras in all the countries in all Americas. And we want to play a little piece for you by one of the most important composers of America. A Mexican composer: Arturo Marquez. \"Danzon No. 2.\" \n",
      "\n",
      "Instrumental! Thank you very much. \n",
      "\n",
      " \n",
      "\n",
      "Herbie Hancock: Thank you. Marcus Miller. Harvey Mason. Thank you. Thank you very much. \n",
      "\n",
      "Thomas Dolby: David Byrne. \n",
      "\n",
      "(Music by Anna Oxygen) (Music: \"Shells\" by Mirah) (Music by Caroline Lufkin) (Music by Anna Oxygen) [Excerpts from \"Myth and Infrastructure\"]Bruno Giussani: Come back. Miwa Matreyek! \n",
      "\n",
      "Angella Ahn: Thank you. Thank you so much. We are so honored to be here at TEDWomen, sharing our music with you. What an exciting and inspiring event. What you just heard is \"Skylife\" by David Balakrishnan. We want to play you one more selection. It's by Astor Piazzolla, an Argentine composer. And we talk about different ideas — he had this idea that he thought music should be from the heart. This was in the middle of the 20th century when music from the heart, beautiful music, wasn't the most popular thing in the classical music world. It was more atonal and twelve-tone. And he insisted on beautiful music. So this is \"Oblivion\" by Astor Piazzolla. Thank you. \n",
      "\n",
      "Thank you. Thank you. \n",
      "\n",
      " \n",
      "\n",
      " \n",
      "\n",
      "Now we know the words, let's sing. Thank you. \n",
      "\n",
      "Today I'm going to talk about unexpected discoveries. Now I work in the solar technology industry. And my small startup is looking to force ourselves into the environment by paying attention to . . . . . . paying attention to crowd-sourcing. It's just a quick video of what we do. Huh. Hang on a moment. It might take a moment to load. We'll just — we can just skip — I'll just skip through the video instead . . . No. This is not . . . Okay. Solar technology is . . . Oh, that's all my time? Okay. Thank you very much. \n",
      "\n",
      " \n",
      "\n",
      "Tommy Mizzone: Tonight we're going to play you two songs. We're three brothers from New Jersey, and the funny thing is that, believe it or not, we are hooked on bluegrass and we're excited to play it for you tonight. TM: Thank you, thank you. Robbie Mizzone: Thank you. I'm Robbie Mizzone. I'm 13, and I play the fiddle. This is my brother, Jonny. He's 10, and he plays the banjo. And on guitar is my 14-year-old brother, Tommy. We call ourselves the Sleepy Man Banjo Boys. TM: Thank you. JM: Thank you all. TM: Thank you very much. \n",
      "\n",
      "(Mechanical noises) \n",
      "\n",
      "Daffodil Hudson: Hello? Yeah, this is she. What? Oh, yeah, yeah, yeah, yeah, of course I accept. What are the dates again? Pen. Pen. Pen. March 17 through 21. Okay, all right, great. Thanks. Lab Partner: Who was that? DH: It was TED. LP: Who's TED? DH: I've got to prepare. [\"Give Your Talk: A Musical\"] [\"My Talk\"] What do you think? (Doorbell) Can I help you? Speaker Coach 1: Speaker Coach 2: Speaker Coach 3: SC 2: All: SC 1: Ready to practice one more time? DH: Right now? Stagehand: Break a leg. DH: All: SC 1: All: SC 2: All: SC 3: All: DH: All: DH: All: DH: All: DH: SC 2: [\"Brought to you by TED staff and friends\"] \n",
      "\n",
      " \n",
      "\n"
     ]
    },
    {
     "name": "stdout",
     "output_type": "stream",
     "text": [
      "Isadora Duncan — — crazy, long-legged woman from San Francisco, got tired of this country, and she wanted to get out. Isadora was famous somewhere around 1908 for putting up a blue curtain, and she would stand with her hands over her solar plexus and she would wait, and she would wait, and then, she would move. Josh and I and Somi call this piece \"The Red Circle and the Blue Curtain.\" Red circle. Blue curtain. But, this is not the beginning of the 20th century. This is a morning in Vancouver in 2015. Come on, Josh! Go! Are we there yet? I don't think so. Hey, yeah! What time is it? Where are we? Josh. Somi. Bill T. Josh. Somi. Bill T. Yeah, yeah! \n",
      "\n",
      " \n",
      "\n",
      "(Guitar music starts) (Distorted guitar music starts) (Ambient/guitar music starts) \n",
      "\n",
      "(Guitar music starts) \n",
      "\n"
     ]
    }
   ],
   "source": [
    "# D6. Add space after all final punctuation\n",
    "\n",
    "def space_after(match):\n",
    "    return match.group(0) + \" \"\n",
    "\n",
    "def space_before(match):\n",
    "    return \" \" + match.group(0)\n",
    "\n",
    "def add_spaces(x):\n",
    "    x = re.sub('\\.\"*|\\!\"*|\\:\"*|;\"*|\\)\"*|\\?\"*', space_after, x)\n",
    "    x = re.sub('\"*\\(', space_before, x)\n",
    "    x = ' '.join(x.split())\n",
    "    return x\n",
    "\n",
    "df_ted.loc[:, 'transcript'] = df_ted.loc[:, 'transcript'].apply(add_spaces)\n",
    "\n",
    "df_ted.loc[:, 'char_length'] = df_ted.loc[:, 'transcript'].apply(len)\n",
    "\n",
    "for i in df_ted.loc[(df_ted['char_length'] < 1000), 'transcript']:\n",
    "    print(i, \"\\n\")"
   ]
  },
  {
   "cell_type": "markdown",
   "metadata": {
    "extensions": {
     "jupyter_dashboards": {
      "version": 1,
      "views": {
       "grid_default": {
        "col": 0,
        "height": 4,
        "hidden": false,
        "row": 283,
        "width": 12
       },
       "report_default": {}
      }
     }
    }
   },
   "source": [
    "The transcripts above are those that have less than a thousand characters remaining. A glance at talks with 1000-2000 characters remaining shows that most are actual talks, but that one has song lyrics that were not enclosed in music notes like the others. These should all be removed."
   ]
  },
  {
   "cell_type": "code",
   "execution_count": 65,
   "metadata": {
    "extensions": {
     "jupyter_dashboards": {
      "version": 1,
      "views": {
       "grid_default": {
        "hidden": true
       },
       "report_default": {}
      }
     }
    },
    "scrolled": true
   },
   "outputs": [],
   "source": [
    "# D7. Remove transcripts with less than 1000 characters or only lyrics\n",
    "df_ted = df_ted.loc[df_ted['char_length'] > 1000, :]\n",
    "df_ted.drop(2382, inplace=True)"
   ]
  },
  {
   "cell_type": "code",
   "execution_count": 66,
   "metadata": {
    "extensions": {
     "jupyter_dashboards": {
      "version": 1,
      "views": {
       "grid_default": {
        "hidden": true
       },
       "report_default": {}
      }
     }
    }
   },
   "outputs": [],
   "source": [
    "# E. Parse text\n",
    "\n",
    "# load language models\n",
    "nlp = spacy.load('en_core_web_lg')\n",
    "\n",
    "# initialize variables\n",
    "vector = []\n",
    "parsed = []\n",
    "\n",
    "# run parsing in spaCy\n",
    "for doc in nlp.pipe(df_ted['transcript'].astype('unicode').values, batch_size=800):\n",
    "    if doc.is_parsed:\n",
    "        parsed.append(doc)\n",
    "        vector.append([n.vector for n in doc])\n",
    "    else:\n",
    "        # We want to make sure that the lists of parsed results have the\n",
    "        # same number of entries of the original Dataframe, so add some blanks in case the parse fails\n",
    "        parsed.append(None)\n",
    "        vector.append(None)\n",
    "        \n",
    "df_ted['transcript_parsed'] = parsed\n",
    "df_ted['transcript_vector'] = vector\n",
    "df_ted.loc[:, 'doc_vector'] = df_ted.loc[:, 'transcript_vector'].apply(lambda x: sum(x))\n",
    "\n",
    "for i in range(300):\n",
    "    df_ted[str(i)] = df_ted['doc_vector'].apply(lambda x: x[i])"
   ]
  },
  {
   "cell_type": "markdown",
   "metadata": {
    "extensions": {
     "jupyter_dashboards": {
      "version": 1,
      "views": {
       "grid_default": {
        "col": 0,
        "height": 12,
        "hidden": false,
        "row": 302,
        "width": 12
       },
       "report_default": {}
      }
     }
    }
   },
   "source": [
    "## <a id='#3 EDA'>3. Exploratory Data Analysis</a>\n",
    "\n",
    "Before modeling the data, some visual exploration of the relationship between the variables should be done.\n",
    "\n",
    "For continuous data not included in the 300 GloVe columns:\n",
    "1. Describe data (count, mean, std, min, max)\n",
    "2. Create histogram with rug plot\n",
    "3. Create boxplot\n",
    "4. Create scatterplot comparing all other continuous varaibles\n",
    "5. Create heatmap of appropriate correlation statistic for all other continuous variables\n",
    "\n",
    "For categorical data:\n",
    "1. Create boxplot comparing levels for the outcome variable (positive rating percent)"
   ]
  },
  {
   "cell_type": "code",
   "execution_count": 67,
   "metadata": {
    "extensions": {
     "jupyter_dashboards": {
      "version": 1,
      "views": {
       "grid_default": {
        "hidden": true
       },
       "report_default": {}
      }
     }
    },
    "scrolled": false
   },
   "outputs": [],
   "source": [
    "# 1. EDA functions\n",
    "\n",
    "# continuous data\n",
    "def desc_hist_box(column, data):\n",
    "    print(\"Data for\", column, \": \\n\")\n",
    "    print(data[column].describe())\n",
    "    \n",
    "    h = sns.distplot(data[column], kde=False, rug=True)\n",
    "    h = plt.title('Histogram with Rug Plot')\n",
    "    h = plt.show()\n",
    "    \n",
    "    b = sns.boxplot(data[column])\n",
    "    b = plt.title('Box Plot')\n",
    "    b = plt.show()\n",
    "    \n",
    "# categorical data    \n",
    "def desc_pair(col1, col2, data):\n",
    "    from scipy.stats import pearsonr, spearmanr\n",
    "    print('Columns:', col1, \"&\", col2, '\\n')\n",
    "    \n",
    "    sns.regplot(col1, col2, data)\n",
    "    plt.show()\n",
    "    \n",
    "    sr = spearmanr(data[col1], data[col2])\n",
    "    print(\"Spearman's rho:\", sr[0])\n",
    "    print(\"p-value for Spearman's rho:\", sr[1], \"\\n\")"
   ]
  },
  {
   "cell_type": "code",
   "execution_count": 68,
   "metadata": {
    "scrolled": false
   },
   "outputs": [
    {
     "name": "stdout",
     "output_type": "stream",
     "text": [
      "Data for pos_pct : \n",
      "\n",
      "count    2381.000000\n",
      "mean        0.920318\n",
      "std         0.086317\n",
      "min         0.195563\n",
      "25%         0.901540\n",
      "50%         0.949315\n",
      "75%         0.974321\n",
      "max         1.000000\n",
      "Name: pos_pct, dtype: float64\n"
     ]
    },
    {
     "data": {
      "image/png": "[encoded data removed]",
      "text/plain": [
       "<matplotlib.figure.Figure at 0x1cf32d4c048>"
      ]
     },
     "metadata": {},
     "output_type": "display_data"
    },
    {
     "data": {
      "image/png": "[encoded data removed]",
      "text/plain": [
       "<matplotlib.figure.Figure at 0x1cea45d5518>"
      ]
     },
     "metadata": {},
     "output_type": "display_data"
    },
    {
     "name": "stdout",
     "output_type": "stream",
     "text": [
      "---------------------------\n",
      "Data for duration : \n",
      "\n",
      "count    2381.000000\n",
      "mean      821.763125\n",
      "std       327.161291\n",
      "min       135.000000\n",
      "25%       587.000000\n",
      "50%       850.000000\n",
      "75%      1044.000000\n",
      "max      3608.000000\n",
      "Name: duration, dtype: float64\n"
     ]
    },
    {
     "data": {
      "image/png": "[encoded data removed]",
      "text/plain": [
       "<matplotlib.figure.Figure at 0x1cea47a9198>"
      ]
     },
     "metadata": {},
     "output_type": "display_data"
    },
    {
     "data": {
      "image/png": "[encoded data removed]",
      "text/plain": [
       "<matplotlib.figure.Figure at 0x1cf37992208>"
      ]
     },
     "metadata": {},
     "output_type": "display_data"
    },
    {
     "name": "stdout",
     "output_type": "stream",
     "text": [
      "---------------------------\n",
      "Data for num_speaker : \n",
      "\n",
      "count    2381.000000\n",
      "mean        1.024780\n",
      "std         0.198247\n",
      "min         1.000000\n",
      "25%         1.000000\n",
      "50%         1.000000\n",
      "75%         1.000000\n",
      "max         5.000000\n",
      "Name: num_speaker, dtype: float64\n"
     ]
    },
    {
     "data": {
      "image/png": "[encoded data removed]",
      "text/plain": [
       "<matplotlib.figure.Figure at 0x1cea43e80f0>"
      ]
     },
     "metadata": {},
     "output_type": "display_data"
    },
    {
     "data": {
      "image/png": "[encoded data removed]",
      "text/plain": [
       "<matplotlib.figure.Figure at 0x1cea47f4f28>"
      ]
     },
     "metadata": {},
     "output_type": "display_data"
    },
    {
     "name": "stdout",
     "output_type": "stream",
     "text": [
      "---------------------------\n",
      "Data for laughter : \n",
      "\n",
      "count    2381.000000\n",
      "mean        4.203276\n",
      "std         6.160924\n",
      "min         0.000000\n",
      "25%         0.000000\n",
      "50%         2.000000\n",
      "75%         5.000000\n",
      "max        74.000000\n",
      "Name: laughter, dtype: float64\n"
     ]
    },
    {
     "data": {
      "image/png": "[encoded data removed]",
      "text/plain": [
       "<matplotlib.figure.Figure at 0x1cea44a92e8>"
      ]
     },
     "metadata": {},
     "output_type": "display_data"
    },
    {
     "data": {
      "image/png": "[encoded data removed]",
      "text/plain": [
       "<matplotlib.figure.Figure at 0x1cf18c326d8>"
      ]
     },
     "metadata": {},
     "output_type": "display_data"
    },
    {
     "name": "stdout",
     "output_type": "stream",
     "text": [
      "---------------------------\n",
      "Data for applause : \n",
      "\n",
      "count    2381.000000\n",
      "mean        2.255775\n",
      "std         2.091925\n",
      "min         0.000000\n",
      "25%         1.000000\n",
      "50%         1.000000\n",
      "75%         3.000000\n",
      "max        18.000000\n",
      "Name: applause, dtype: float64\n"
     ]
    },
    {
     "data": {
      "image/png": "[encoded data removed]",
      "text/plain": [
       "<matplotlib.figure.Figure at 0x1cea1797cc0>"
      ]
     },
     "metadata": {},
     "output_type": "display_data"
    },
    {
     "data": {
      "image/png": "[encoded data removed]",
      "text/plain": [
       "<matplotlib.figure.Figure at 0x1cea17ac860>"
      ]
     },
     "metadata": {},
     "output_type": "display_data"
    },
    {
     "name": "stdout",
     "output_type": "stream",
     "text": [
      "---------------------------\n"
     ]
    }
   ],
   "source": [
    "# EDA: Continuous Data, one-by-one\n",
    "for i in ['pos_pct', 'duration', 'num_speaker', 'laughter', 'applause']:\n",
    "    desc_hist_box(i, df_ted)\n",
    "    print('---------------------------')"
   ]
  },
  {
   "cell_type": "code",
   "execution_count": 69,
   "metadata": {},
   "outputs": [
    {
     "data": {
      "image/png": "[encoded data removed]",
      "text/plain": [
       "<matplotlib.figure.Figure at 0x1cea4c6aa58>"
      ]
     },
     "metadata": {},
     "output_type": "display_data"
    },
    {
     "data": {
      "image/png": "[encoded data removed]",
      "text/plain": [
       "<matplotlib.figure.Figure at 0x1cea1ab5198>"
      ]
     },
     "metadata": {},
     "output_type": "display_data"
    }
   ],
   "source": [
    "# EDA: Continuous Comparison\n",
    "\n",
    "# pairplot\n",
    "_ = sns.pairplot(data=df_ted, vars=['pos_pct', 'duration', 'num_speaker', 'laughter', 'applause'])\n",
    "_ = plt.show()\n",
    "\n",
    "# correlation heatmap\n",
    "df_corr = df_ted.loc[:, ['pos_pct', 'duration', 'num_speaker', 'laughter', 'applause']].corr(method='spearman')\n",
    "heat = sns.heatmap(df_corr, annot=True, cmap=sns.color_palette(\"GnBu_d\"))\n",
    "heat = plt.title(\"Spearman Correlation for Continuous Data\")\n",
    "heat = plt.show()"
   ]
  },
  {
   "cell_type": "markdown",
   "metadata": {
    "extensions": {
     "jupyter_dashboards": {
      "version": 1,
      "views": {
       "grid_default": {
        "col": 8,
        "height": 12,
        "hidden": false,
        "row": 338,
        "width": 4
       },
       "report_default": {}
      }
     }
    },
    "scrolled": true
   },
   "source": [
    "The results above show a few important issues:\n",
    "1. There are significant outliers in __duration__.  TED talks are supposed to last no more than 18 minutes, according to official submission guidelines, but some go to 30 minutes or over an hour.\n",
    "2. Most talks were given by one person and the data is sparse otherwise. Changing __num_speaker__ to a binary variable for \"has more than one speaker\" could be more useful. \n",
    "3. The distributions for __laughter__ and __applause__ have mostly 0's and 1's. This indicates that transcribers were likely not consistent in their in-/exclusion of audience reactions and their use for prediction may be inconsistent.\n",
    "4. The distribution for __pos_pct__, the dependent variable, is skewed toward higher values. This may cause underfitting for poorly-rated talks."
   ]
  },
  {
   "cell_type": "code",
   "execution_count": 70,
   "metadata": {},
   "outputs": [
    {
     "data": {
      "text/html": [
       "<div>\n",
       "<style scoped>\n",
       "    .dataframe tbody tr th:only-of-type {\n",
       "        vertical-align: middle;\n",
       "    }\n",
       "\n",
       "    .dataframe tbody tr th {\n",
       "        vertical-align: top;\n",
       "    }\n",
       "\n",
       "    .dataframe thead th {\n",
       "        text-align: right;\n",
       "    }\n",
       "</style>\n",
       "<table border=\"1\" class=\"dataframe\">\n",
       "  <thead>\n",
       "    <tr style=\"text-align: right;\">\n",
       "      <th></th>\n",
       "      <th>name</th>\n",
       "      <th>duration</th>\n",
       "      <th>event_type</th>\n",
       "    </tr>\n",
       "  </thead>\n",
       "  <tbody>\n",
       "    <tr>\n",
       "      <th>11</th>\n",
       "      <td>Jehane Noujaim: My wish: A global day of film</td>\n",
       "      <td>1538</td>\n",
       "      <td>TED Yearly</td>\n",
       "    </tr>\n",
       "    <tr>\n",
       "      <th>12</th>\n",
       "      <td>Larry Brilliant: My wish: Help me stop pandemics</td>\n",
       "      <td>1550</td>\n",
       "      <td>TED Yearly</td>\n",
       "    </tr>\n",
       "    <tr>\n",
       "      <th>39</th>\n",
       "      <td>Bono: My wish: Three actions for Africa</td>\n",
       "      <td>1672</td>\n",
       "      <td>TED Yearly</td>\n",
       "    </tr>\n",
       "    <tr>\n",
       "      <th>40</th>\n",
       "      <td>Edward Burtynsky: My wish: Manufactured landsc...</td>\n",
       "      <td>2065</td>\n",
       "      <td>TED Yearly</td>\n",
       "    </tr>\n",
       "    <tr>\n",
       "      <th>41</th>\n",
       "      <td>Robert Fischell: My wish: Three unusual medica...</td>\n",
       "      <td>1609</td>\n",
       "      <td>TED Yearly</td>\n",
       "    </tr>\n",
       "    <tr>\n",
       "      <th>66</th>\n",
       "      <td>Jane Goodall: What separates us from chimpanzees?</td>\n",
       "      <td>1645</td>\n",
       "      <td>TED Yearly</td>\n",
       "    </tr>\n",
       "    <tr>\n",
       "      <th>89</th>\n",
       "      <td>Evelyn Glennie: How to truly listen</td>\n",
       "      <td>1929</td>\n",
       "      <td>TED Yearly</td>\n",
       "    </tr>\n",
       "    <tr>\n",
       "      <th>96</th>\n",
       "      <td>Richard Dawkins: Militant atheism</td>\n",
       "      <td>1750</td>\n",
       "      <td>TED Yearly</td>\n",
       "    </tr>\n",
       "    <tr>\n",
       "      <th>146</th>\n",
       "      <td>Stephen Petranek: 10 ways the world could end</td>\n",
       "      <td>1782</td>\n",
       "      <td>TED Yearly</td>\n",
       "    </tr>\n",
       "    <tr>\n",
       "      <th>150</th>\n",
       "      <td>Richard Branson: Life at 30,000 feet</td>\n",
       "      <td>1791</td>\n",
       "      <td>TED Yearly</td>\n",
       "    </tr>\n",
       "    <tr>\n",
       "      <th>179</th>\n",
       "      <td>Bill Strickland: Rebuilding a neighborhood wit...</td>\n",
       "      <td>2128</td>\n",
       "      <td>TED Yearly</td>\n",
       "    </tr>\n",
       "    <tr>\n",
       "      <th>199</th>\n",
       "      <td>Nicholas Negroponte: 5 predictions, from 1984</td>\n",
       "      <td>1523</td>\n",
       "      <td>TED Yearly</td>\n",
       "    </tr>\n",
       "    <tr>\n",
       "      <th>201</th>\n",
       "      <td>Frank Gehry: My days as a young rebel</td>\n",
       "      <td>2678</td>\n",
       "      <td>TED Yearly</td>\n",
       "    </tr>\n",
       "    <tr>\n",
       "      <th>202</th>\n",
       "      <td>Dave Eggers: My wish: Once Upon a School</td>\n",
       "      <td>1535</td>\n",
       "      <td>TED Yearly</td>\n",
       "    </tr>\n",
       "    <tr>\n",
       "      <th>212</th>\n",
       "      <td>Al Gore: New thinking on the climate crisis</td>\n",
       "      <td>1674</td>\n",
       "      <td>TED Yearly</td>\n",
       "    </tr>\n",
       "    <tr>\n",
       "      <th>224</th>\n",
       "      <td>Michael Moschen: Juggling as art ... and science</td>\n",
       "      <td>2222</td>\n",
       "      <td>TED Yearly</td>\n",
       "    </tr>\n",
       "    <tr>\n",
       "      <th>255</th>\n",
       "      <td>Billy Graham: On technology and faith</td>\n",
       "      <td>1580</td>\n",
       "      <td>TED Yearly</td>\n",
       "    </tr>\n",
       "    <tr>\n",
       "      <th>269</th>\n",
       "      <td>Lennart Green: Close-up card magic with a twist</td>\n",
       "      <td>1868</td>\n",
       "      <td>TED Yearly</td>\n",
       "    </tr>\n",
       "    <tr>\n",
       "      <th>277</th>\n",
       "      <td>Irwin Redlener: How to survive a nuclear attack</td>\n",
       "      <td>1518</td>\n",
       "      <td>TED Yearly</td>\n",
       "    </tr>\n",
       "    <tr>\n",
       "      <th>326</th>\n",
       "      <td>David Holt: The joyful tradition of mountain m...</td>\n",
       "      <td>1517</td>\n",
       "      <td>TED Yearly</td>\n",
       "    </tr>\n",
       "    <tr>\n",
       "      <th>329</th>\n",
       "      <td>Dan Gilbert: Why we make bad decisions</td>\n",
       "      <td>2018</td>\n",
       "      <td>TED Global</td>\n",
       "    </tr>\n",
       "    <tr>\n",
       "      <th>333</th>\n",
       "      <td>Kary Mullis: Play! Experiment! Discover!</td>\n",
       "      <td>1772</td>\n",
       "      <td>TED Yearly</td>\n",
       "    </tr>\n",
       "    <tr>\n",
       "      <th>567</th>\n",
       "      <td>Bill Gates: Innovating to zero!</td>\n",
       "      <td>1669</td>\n",
       "      <td>TED Yearly</td>\n",
       "    </tr>\n",
       "    <tr>\n",
       "      <th>602</th>\n",
       "      <td>Natalie Merchant: Singing old poems to life</td>\n",
       "      <td>1758</td>\n",
       "      <td>TED Yearly</td>\n",
       "    </tr>\n",
       "    <tr>\n",
       "      <th>694</th>\n",
       "      <td>His Holiness the Karmapa: The technology of th...</td>\n",
       "      <td>1523</td>\n",
       "      <td>TED@</td>\n",
       "    </tr>\n",
       "    <tr>\n",
       "      <th>1100</th>\n",
       "      <td>Regina Dugan: From mach-20 glider to hummingbi...</td>\n",
       "      <td>1501</td>\n",
       "      <td>TED Yearly</td>\n",
       "    </tr>\n",
       "    <tr>\n",
       "      <th>1113</th>\n",
       "      <td>Melinda Gates: Let's put birth control back on...</td>\n",
       "      <td>1527</td>\n",
       "      <td>TEDx</td>\n",
       "    </tr>\n",
       "    <tr>\n",
       "      <th>1128</th>\n",
       "      <td>Amory Lovins: A 40-year plan for energy</td>\n",
       "      <td>1630</td>\n",
       "      <td>TED Salon</td>\n",
       "    </tr>\n",
       "    <tr>\n",
       "      <th>1553</th>\n",
       "      <td>Andrew Solomon: Depression, the secret we share</td>\n",
       "      <td>1761</td>\n",
       "      <td>TEDx</td>\n",
       "    </tr>\n",
       "    <tr>\n",
       "      <th>1608</th>\n",
       "      <td>Edward Snowden: Here's how we take back the In...</td>\n",
       "      <td>2102</td>\n",
       "      <td>TED Yearly</td>\n",
       "    </tr>\n",
       "    <tr>\n",
       "      <th>1611</th>\n",
       "      <td>Richard Ledgett: The NSA responds to Edward Sn...</td>\n",
       "      <td>2010</td>\n",
       "      <td>TED Yearly</td>\n",
       "    </tr>\n",
       "    <tr>\n",
       "      <th>1900</th>\n",
       "      <td>Sarah Jones: One woman, five characters, and a...</td>\n",
       "      <td>1528</td>\n",
       "      <td>TED Yearly</td>\n",
       "    </tr>\n",
       "    <tr>\n",
       "      <th>2051</th>\n",
       "      <td>Al Gore: The case for optimism on climate change</td>\n",
       "      <td>1520</td>\n",
       "      <td>TED Yearly</td>\n",
       "    </tr>\n",
       "    <tr>\n",
       "      <th>2293</th>\n",
       "      <td>Yuval Noah Harari: Nationalism vs. globalism: ...</td>\n",
       "      <td>3608</td>\n",
       "      <td>Other</td>\n",
       "    </tr>\n",
       "    <tr>\n",
       "      <th>2326</th>\n",
       "      <td>Gretchen Carlson, David Brooks: Political comm...</td>\n",
       "      <td>2853</td>\n",
       "      <td>Other</td>\n",
       "    </tr>\n",
       "    <tr>\n",
       "      <th>2335</th>\n",
       "      <td>Chimamanda Ngozi Adichie: We should all be fem...</td>\n",
       "      <td>1768</td>\n",
       "      <td>TEDx</td>\n",
       "    </tr>\n",
       "    <tr>\n",
       "      <th>2346</th>\n",
       "      <td>Elon Musk: The future we're building -- and bo...</td>\n",
       "      <td>2450</td>\n",
       "      <td>TED Yearly</td>\n",
       "    </tr>\n",
       "  </tbody>\n",
       "</table>\n",
       "</div>"
      ],
      "text/plain": [
       "                                                   name  duration  event_type\n",
       "11        Jehane Noujaim: My wish: A global day of film      1538  TED Yearly\n",
       "12     Larry Brilliant: My wish: Help me stop pandemics      1550  TED Yearly\n",
       "39              Bono: My wish: Three actions for Africa      1672  TED Yearly\n",
       "40    Edward Burtynsky: My wish: Manufactured landsc...      2065  TED Yearly\n",
       "41    Robert Fischell: My wish: Three unusual medica...      1609  TED Yearly\n",
       "66    Jane Goodall: What separates us from chimpanzees?      1645  TED Yearly\n",
       "89                  Evelyn Glennie: How to truly listen      1929  TED Yearly\n",
       "96                    Richard Dawkins: Militant atheism      1750  TED Yearly\n",
       "146       Stephen Petranek: 10 ways the world could end      1782  TED Yearly\n",
       "150                Richard Branson: Life at 30,000 feet      1791  TED Yearly\n",
       "179   Bill Strickland: Rebuilding a neighborhood wit...      2128  TED Yearly\n",
       "199       Nicholas Negroponte: 5 predictions, from 1984      1523  TED Yearly\n",
       "201               Frank Gehry: My days as a young rebel      2678  TED Yearly\n",
       "202            Dave Eggers: My wish: Once Upon a School      1535  TED Yearly\n",
       "212         Al Gore: New thinking on the climate crisis      1674  TED Yearly\n",
       "224    Michael Moschen: Juggling as art ... and science      2222  TED Yearly\n",
       "255               Billy Graham: On technology and faith      1580  TED Yearly\n",
       "269     Lennart Green: Close-up card magic with a twist      1868  TED Yearly\n",
       "277     Irwin Redlener: How to survive a nuclear attack      1518  TED Yearly\n",
       "326   David Holt: The joyful tradition of mountain m...      1517  TED Yearly\n",
       "329              Dan Gilbert: Why we make bad decisions      2018  TED Global\n",
       "333            Kary Mullis: Play! Experiment! Discover!      1772  TED Yearly\n",
       "567                     Bill Gates: Innovating to zero!      1669  TED Yearly\n",
       "602         Natalie Merchant: Singing old poems to life      1758  TED Yearly\n",
       "694   His Holiness the Karmapa: The technology of th...      1523        TED@\n",
       "1100  Regina Dugan: From mach-20 glider to hummingbi...      1501  TED Yearly\n",
       "1113  Melinda Gates: Let's put birth control back on...      1527        TEDx\n",
       "1128            Amory Lovins: A 40-year plan for energy      1630   TED Salon\n",
       "1553    Andrew Solomon: Depression, the secret we share      1761        TEDx\n",
       "1608  Edward Snowden: Here's how we take back the In...      2102  TED Yearly\n",
       "1611  Richard Ledgett: The NSA responds to Edward Sn...      2010  TED Yearly\n",
       "1900  Sarah Jones: One woman, five characters, and a...      1528  TED Yearly\n",
       "2051   Al Gore: The case for optimism on climate change      1520  TED Yearly\n",
       "2293  Yuval Noah Harari: Nationalism vs. globalism: ...      3608       Other\n",
       "2326  Gretchen Carlson, David Brooks: Political comm...      2853       Other\n",
       "2335  Chimamanda Ngozi Adichie: We should all be fem...      1768        TEDx\n",
       "2346  Elon Musk: The future we're building -- and bo...      2450  TED Yearly"
      ]
     },
     "execution_count": 70,
     "metadata": {},
     "output_type": "execute_result"
    }
   ],
   "source": [
    "# EDA: Address continuous issues\n",
    "#1. Significant outliers in duration\n",
    "df_ted.loc[df_ted['duration'] > 25*60, ['name', 'duration', 'event_type']]"
   ]
  },
  {
   "cell_type": "markdown",
   "metadata": {},
   "source": [
    "Most talks over 25 minutes look to be from _TED Yearly_ or _TED Global_ talks and from well-known individuals, sometimes in controversial topics. This indicates they are something different from the normal TED talk and should be excluded as outliers."
   ]
  },
  {
   "cell_type": "code",
   "execution_count": 71,
   "metadata": {
    "extensions": {
     "jupyter_dashboards": {
      "version": 1,
      "views": {
       "grid_default": {
        "hidden": true
       },
       "report_default": {}
      }
     }
    },
    "scrolled": false
   },
   "outputs": [
    {
     "data": {
      "image/png": "[encoded data removed]",
      "text/plain": [
       "<matplotlib.figure.Figure at 0x1cf32d4c358>"
      ]
     },
     "metadata": {},
     "output_type": "display_data"
    }
   ],
   "source": [
    "#EDA: Address continuous issues\n",
    "\n",
    "#1. drop duration greater than 25 minutes\n",
    "df_ted = df_ted.loc[df_ted['duration'] < 25*60, :].copy()\n",
    "\n",
    "#2. Change num_speaker to binary for 1 speaker == False, >1 speaker == True\n",
    "df_ted['speakers'] = df_ted.loc[:, 'num_speaker'].apply(lambda x: x>1)\n",
    "\n",
    "# show pairplot\n",
    "_ = sns.pairplot(data=df_ted, vars=['pos_pct', 'duration', 'laughter', 'applause'])\n",
    "_ = plt.show()"
   ]
  },
  {
   "cell_type": "code",
   "execution_count": 72,
   "metadata": {
    "scrolled": false
   },
   "outputs": [
    {
     "data": {
      "image/png": "[encoded data removed]",
      "text/plain": [
       "<matplotlib.figure.Figure at 0x1cea3ba2978>"
      ]
     },
     "metadata": {},
     "output_type": "display_data"
    },
    {
     "data": {
      "image/png": "[encoded data removed]",
      "text/plain": [
       "<matplotlib.figure.Figure at 0x1cdcffe8438>"
      ]
     },
     "metadata": {},
     "output_type": "display_data"
    },
    {
     "data": {
      "image/png": "[encoded data removed]",
      "text/plain": [
       "<matplotlib.figure.Figure at 0x1cea33fffd0>"
      ]
     },
     "metadata": {},
     "output_type": "display_data"
    },
    {
     "data": {
      "image/png": "[encoded data removed]",
      "text/plain": [
       "<matplotlib.figure.Figure at 0x1cea434bd68>"
      ]
     },
     "metadata": {},
     "output_type": "display_data"
    },
    {
     "data": {
      "image/png": "[encoded data removed]",
      "text/plain": [
       "<matplotlib.figure.Figure at 0x1cea1925e10>"
      ]
     },
     "metadata": {},
     "output_type": "display_data"
    }
   ],
   "source": [
    "# EDA: Categorical Boxplots\n",
    "for i in ['event_type', 'has_music', 'has_note', 'has_dance', 'speakers']:\n",
    "    fig, ax = plt.subplots()\n",
    "    fig.set_size_inches(8, 5)\n",
    "    sns.boxplot(y='pos_pct', x=i, data=df_ted, orient='v')\n",
    "    plt.title(\"Positive Rating Percent for Levels of {0}\".format(i))\n",
    "    plt.show()"
   ]
  },
  {
   "cell_type": "code",
   "execution_count": 73,
   "metadata": {},
   "outputs": [],
   "source": [
    "#df_corr = df_ted.loc[:, [str(i) for i in range(300)]].corr(method='spearman')\n",
    "#heat = sns.heatmap(df_corr, annot=True, cmap=sns.color_palette(\"GnBu_d\"))\n",
    "#heat = plt.title(\"Spearman Correlation for Continuous Data\")\n",
    "#heat = plt.show()"
   ]
  },
  {
   "cell_type": "markdown",
   "metadata": {},
   "source": [
    "The charts above show that the positive rating percent has a similar distribution for different levels of categorical data, but some categories have more low-rated talks than others.\n",
    "\n",
    "---\n",
    "\n",
    "## <a id='#4 Modeling'>4. Modeling</a>\n",
    "\n",
    "Now that the data has been cleaned and investigated, it can finally be modeled using multiple linear regression. The goal is to find a formula that can be used to accurately predict the positive rating percent of a talk, given its predictor variables. \n",
    "\n",
    "--Information about modeling, cross-validation, and RMSE.--\n",
    "\n",
    "To do this, the data must be broken into randomly-assigned train/test groups (70/30).\n"
   ]
  },
  {
   "cell_type": "code",
   "execution_count": 141,
   "metadata": {},
   "outputs": [],
   "source": [
    "import itertools\n",
    "import numpy as np\n",
    "from operator import itemgetter\n",
    "from scipy.stats import spearmanr\n",
    "from sklearn import metrics\n",
    "from sklearn.model_selection import train_test_split\n",
    "from sklearn.linear_model import LinearRegression\n",
    "from sklearn.model_selection import cross_val_score\n",
    "from sklearn.model_selection import GridSearchCV\n",
    "from sklearn.feature_selection import RFECV\n",
    "\n",
    "# Separate data\n",
    "predictors = ['duration', 'laughter', 'applause', 'event_type', 'has_music', 'has_dance', 'has_note', 'speakers']\n",
    "predictors += [str(i) for i in list(range(300))]\n",
    "cats = ['has_note', 'has_music', 'has_dance', 'speakers', 'event_type']\n",
    "df_cat = pd.get_dummies(df_ted.loc[:, predictors + ['pos_pct']], columns=cats, drop_first=True)\n",
    "X = df_cat.copy()\n",
    "X = X.drop('pos_pct', axis=1)\n",
    "y = df_cat.loc[:, 'pos_pct']\n",
    "\n",
    "X_train, X_test, y_train, y_test = train_test_split(X, y, test_size=0.3, random_state=2)"
   ]
  },
  {
   "cell_type": "code",
   "execution_count": 142,
   "metadata": {},
   "outputs": [
    {
     "name": "stdout",
     "output_type": "stream",
     "text": [
      "Intercept Training RMSE: 0.08790200719037311\n",
      "\n",
      "No Word Vectors RMSE: 0.08613782169161391\n",
      "Variables Used: ['duration', 'laughter', 'applause', 'has_note_True', 'has_music_True', 'has_dance_True', 'speakers_True', 'event_type_TED Global', 'event_type_TED Salon', 'event_type_TED Women', 'event_type_TED Yearly', 'event_type_TED@', 'event_type_TEDMED', 'event_type_TEDx']\n",
      "\n",
      "Only Word Vectors RMSE: 0.08145075473909102\n",
      "Variables Used: ['26', '45', '55', '64', '69', '71', '82', '116', '122', '137', '139', '172', '185', '186', '191', '214', '227', '228', '232', '240', '262', '263', '271', '279', '287']\n",
      "\n",
      "Overall Model RMSE: 0.08226758967475466\n",
      "Variables Used: ['laughter', 'applause', '26', '71', '89', '189', '201', '214', '225', '227', '259', '262', '263', 'has_music_True', 'speakers_True', 'event_type_TED Global', 'event_type_TED Salon', 'event_type_TED Women', 'event_type_TED Yearly', 'event_type_TED@', 'event_type_TEDMED', 'event_type_TEDx']\n"
     ]
    }
   ],
   "source": [
    "# Training\n",
    "\n",
    "# Fit intercept model\n",
    "int_array_train = np.array([1]*1640).reshape(-1, 1)\n",
    "intercept = LinearRegression().fit(int_array_train, y_train)\n",
    "int_train_predict = intercept.predict(int_array_train)\n",
    "print(\"Intercept Training RMSE:\", np.sqrt(metrics.mean_squared_error(y_train, int_train_predict)))\n",
    "print(\"\")\n",
    "\n",
    "# Find best model excluding word vectors\n",
    "no_word_cols = [i for i in list(X_train.keys()) if i not in [str(j) for j in range(300)]]\n",
    "no_word_model = RFECV(LinearRegression(), scoring='neg_mean_squared_error', cv=10)\n",
    "no_word_model_fit = no_word_model.fit(X_train.loc[:, no_word_cols], y_train)\n",
    "no_word_best_vars = list()\n",
    "for j in range(len(no_word_model_fit.ranking_)):\n",
    "    if no_word_model_fit.ranking_[j] == 1:\n",
    "        no_word_best_vars.append(no_word_cols[j])\n",
    "no_word_scores = cross_val_score(LinearRegression(),\n",
    "                                X_train.loc[:, no_word_best_vars],\n",
    "                                y_train,\n",
    "                                cv=10,\n",
    "                                scoring='neg_mean_squared_error')\n",
    "print(\"No Word Vectors RMSE:\", np.sqrt(-no_word_scores).mean())\n",
    "print(\"Variables Used:\", no_word_best_vars)\n",
    "print(\"\")\n",
    "\n",
    "# Find best model using only word vectors\n",
    "word_cols = [str(j) for j in range(300)]\n",
    "word_model = RFECV(LinearRegression(), scoring='neg_mean_squared_error', cv=10)\n",
    "word_model_fit = word_model.fit(X_train.loc[:, word_cols], y_train)\n",
    "word_best_vars = list()\n",
    "for j in range(len(word_model_fit.ranking_)):\n",
    "    if word_model_fit.ranking_[j] == 1:\n",
    "        word_best_vars.append(word_cols[j])\n",
    "word_scores = cross_val_score(LinearRegression(),\n",
    "                                X_train.loc[:, word_best_vars],\n",
    "                                y_train,\n",
    "                                cv=10,\n",
    "                                scoring='neg_mean_squared_error')\n",
    "print(\"Only Word Vectors RMSE:\", np.sqrt(-word_scores).mean())\n",
    "print(\"Variables Used:\", word_best_vars)\n",
    "print(\"\")\n",
    "\n",
    "# Find best overall model\n",
    "overall_model = RFECV(LinearRegression(), scoring='neg_mean_squared_error', cv=10)\n",
    "overall_model_fit = word_model.fit(X_train, y_train)\n",
    "overall_best_vars = list()\n",
    "for j in range(len(overall_model_fit.ranking_)):\n",
    "    if overall_model_fit.ranking_[j] == 1:\n",
    "        overall_best_vars.append(X_train.keys()[j])\n",
    "overall_scores = cross_val_score(LinearRegression(),\n",
    "                                X_train.loc[:, overall_best_vars],\n",
    "                                y_train,\n",
    "                                cv=10,\n",
    "                                scoring='neg_mean_squared_error')\n",
    "print(\"Overall Model RMSE:\", np.sqrt(-overall_scores).mean())\n",
    "print(\"Variables Used:\", overall_best_vars)"
   ]
  },
  {
   "cell_type": "code",
   "execution_count": 143,
   "metadata": {},
   "outputs": [
    {
     "name": "stdout",
     "output_type": "stream",
     "text": [
      "Intercept Test RMSE: 0.08036848780545676\n",
      "\n",
      "No Word Vector Test RMSE: 0.07826609636971808\n",
      "\n",
      "Only Word Vector Test RMSE: 0.07632722986520199\n",
      "\n",
      "Overall Test RMSE: 0.07492189680154376\n",
      "\n"
     ]
    }
   ],
   "source": [
    "# Testing\n",
    "\n",
    "# Intercept Model\n",
    "intercept_array_test = np.array([1]*703).reshape(-1, 1)\n",
    "intercept_test = intercept.predict(intercept_array_test)\n",
    "intercept_test_rmse = np.sqrt(metrics.mean_squared_error(y_test, intercept_test))\n",
    "print(\"Intercept Test RMSE:\", intercept_test_rmse)\n",
    "print(\"\")\n",
    "\n",
    "# No Word Model\n",
    "no_word_train_model = LinearRegression().fit(X_train.loc[:, no_word_best_vars], y_train)\n",
    "no_word_test = no_word_train_model.predict(X_test.loc[:, no_word_best_vars])\n",
    "no_word_test_rmse = np.sqrt(metrics.mean_squared_error(y_test, no_word_test))\n",
    "print(\"No Word Vector Test RMSE:\", no_word_test_rmse)\n",
    "print(\"\")\n",
    "\n",
    "# OnlyWord Model\n",
    "word_train_model = LinearRegression().fit(X_train.loc[:, word_best_vars], y_train)\n",
    "word_test = word_train_model.predict(X_test.loc[:, word_best_vars])\n",
    "word_test_rmse = np.sqrt(metrics.mean_squared_error(y_test, word_test))\n",
    "print(\"Only Word Vector Test RMSE:\", word_test_rmse)\n",
    "print(\"\")\n",
    "\n",
    "# Overall Model\n",
    "overall_train_model = LinearRegression().fit(X_train.loc[:, overall_best_vars], y_train)\n",
    "overall_test = overall_train_model.predict(X_test.loc[:, overall_best_vars])\n",
    "overall_test_rmse = np.sqrt(metrics.mean_squared_error(y_test, overall_test))\n",
    "print(\"Overall Test RMSE:\", overall_test_rmse)\n",
    "print(\"\")"
   ]
  },
  {
   "cell_type": "markdown",
   "metadata": {},
   "source": [
    "-- Blurb explaining what this is and why it matters --\n",
    "\n",
    "-- Scatter plots showing accuracy (or lack thereof) --\n",
    "\n",
    "-- How all this mess could be better --"
   ]
  }
 ],
 "metadata": {
  "extensions": {
   "jupyter_dashboards": {
    "activeView": "grid_default",
    "version": 1,
    "views": {
     "grid_default": {
      "cellMargin": 10,
      "defaultCellHeight": 20,
      "maxColumns": 12,
      "name": "grid",
      "type": "grid"
     },
     "report_default": {
      "name": "report",
      "type": "report"
     }
    }
   }
  },
  "kernelspec": {
   "display_name": "Python 3",
   "language": "python",
   "name": "python3"
  },
  "language_info": {
   "codemirror_mode": {
    "name": "ipython",
    "version": 3
   },
   "file_extension": ".py",
   "mimetype": "text/x-python",
   "name": "python",
   "nbconvert_exporter": "python",
   "pygments_lexer": "ipython3",
   "version": "3.6.3"
  }
 },
 "nbformat": 4,
 "nbformat_minor": 2
}
