{
 "cells": [
  {
   "cell_type": "markdown",
   "metadata": {},
   "source": [
    "# What is the True Normal Human Body Temperature? \n",
    "\n",
    "#### Background\n",
    "\n",
    "The mean normal body temperature was held to be 37$^{\\circ}$C or 98.6$^{\\circ}$F for more than 120 years since it was first conceptualized and reported by Carl Wunderlich in a famous 1868 book. But, is this value statistically correct?"
   ]
  },
  {
   "cell_type": "markdown",
   "metadata": {},
   "source": [
    "<h3>Exercises</h3>\n",
    "\n",
    "<p>In this exercise, you will analyze a dataset of human body temperatures and employ the concepts of hypothesis testing, confidence intervals, and statistical significance.</p>\n",
    "\n",
    "<p>Answer the following questions <b>in this notebook below and submit to your Github account</b>.</p> \n",
    "\n",
    "<ol>\n",
    "<li>  Is the distribution of body temperatures normal? \n",
    "    <ul>\n",
    "    <li> Although this is not a requirement for CLT to hold (read CLT carefully), it gives us some peace of mind that the population may also be normally distributed if we assume that this sample is representative of the population.\n",
    "    </ul>\n",
    "<li>  Is the sample size large? Are the observations independent?\n",
    "    <ul>\n",
    "    <li> Remember that this is a condition for the CLT, and hence the statistical tests we are using, to apply.\n",
    "    </ul>\n",
    "<li>  Is the true population mean really 98.6 degrees F?\n",
    "    <ul>\n",
    "    <li> Would you use a one-sample or two-sample test? Why?\n",
    "    <li> In this situation, is it appropriate to use the $t$ or $z$ statistic? \n",
    "    <li> Now try using the other test. How is the result be different? Why?\n",
    "    </ul>\n",
    "<li>  Draw a small sample of size 10 from the data and repeat both tests. \n",
    "    <ul>\n",
    "    <li> Which one is the correct one to use? \n",
    "    <li> What do you notice? What does this tell you about the difference in application of the $t$ and $z$ statistic?\n",
    "    </ul>\n",
    "<li>  At what temperature should we consider someone's temperature to be \"abnormal\"?\n",
    "    <ul>\n",
    "    <li> Start by computing the margin of error and confidence interval.\n",
    "    </ul>\n",
    "<li>  Is there a significant difference between males and females in normal temperature?\n",
    "    <ul>\n",
    "    <li> What test did you use and why?\n",
    "    <li> Write a story with your conclusion in the context of the original problem.\n",
    "    </ul>\n",
    "</ol>\n",
    "\n",
    "You can include written notes in notebook cells using Markdown: \n",
    "   - In the control panel at the top, choose Cell > Cell Type > Markdown\n",
    "   - Markdown syntax: http://nestacms.com/docs/creating-content/markdown-cheat-sheet\n",
    "\n",
    "#### Resources\n",
    "\n",
    "+ Information and data sources: http://www.amstat.org/publications/jse/datasets/normtemp.txt, http://www.amstat.org/publications/jse/jse_data_archive.htm\n",
    "+ Markdown syntax: http://nestacms.com/docs/creating-content/markdown-cheat-sheet\n",
    "\n",
    "****"
   ]
  },
  {
   "cell_type": "code",
   "execution_count": 194,
   "metadata": {},
   "outputs": [
    {
     "data": {
      "text/html": [
       "<div>\n",
       "<style scoped>\n",
       "    .dataframe tbody tr th:only-of-type {\n",
       "        vertical-align: middle;\n",
       "    }\n",
       "\n",
       "    .dataframe tbody tr th {\n",
       "        vertical-align: top;\n",
       "    }\n",
       "\n",
       "    .dataframe thead th {\n",
       "        text-align: right;\n",
       "    }\n",
       "</style>\n",
       "<table border=\"1\" class=\"dataframe\">\n",
       "  <thead>\n",
       "    <tr style=\"text-align: right;\">\n",
       "      <th></th>\n",
       "      <th>temperature</th>\n",
       "      <th>gender</th>\n",
       "      <th>heart_rate</th>\n",
       "    </tr>\n",
       "  </thead>\n",
       "  <tbody>\n",
       "    <tr>\n",
       "      <th>0</th>\n",
       "      <td>99.3</td>\n",
       "      <td>F</td>\n",
       "      <td>68.0</td>\n",
       "    </tr>\n",
       "    <tr>\n",
       "      <th>1</th>\n",
       "      <td>98.4</td>\n",
       "      <td>F</td>\n",
       "      <td>81.0</td>\n",
       "    </tr>\n",
       "    <tr>\n",
       "      <th>2</th>\n",
       "      <td>97.8</td>\n",
       "      <td>M</td>\n",
       "      <td>73.0</td>\n",
       "    </tr>\n",
       "    <tr>\n",
       "      <th>3</th>\n",
       "      <td>99.2</td>\n",
       "      <td>F</td>\n",
       "      <td>66.0</td>\n",
       "    </tr>\n",
       "    <tr>\n",
       "      <th>4</th>\n",
       "      <td>98.0</td>\n",
       "      <td>F</td>\n",
       "      <td>73.0</td>\n",
       "    </tr>\n",
       "  </tbody>\n",
       "</table>\n",
       "</div>"
      ],
      "text/plain": [
       "   temperature gender  heart_rate\n",
       "0         99.3      F        68.0\n",
       "1         98.4      F        81.0\n",
       "2         97.8      M        73.0\n",
       "3         99.2      F        66.0\n",
       "4         98.0      F        73.0"
      ]
     },
     "execution_count": 194,
     "metadata": {},
     "output_type": "execute_result"
    },
    {
     "name": "stdout",
     "output_type": "stream",
     "text": [
      "<class 'pandas.core.frame.DataFrame'>\n",
      "RangeIndex: 130 entries, 0 to 129\n",
      "Data columns (total 3 columns):\n",
      "temperature    130 non-null float64\n",
      "gender         130 non-null object\n",
      "heart_rate     130 non-null float64\n",
      "dtypes: float64(2), object(1)\n",
      "memory usage: 3.1+ KB\n"
     ]
    },
    {
     "data": {
      "text/html": [
       "<div>\n",
       "<style scoped>\n",
       "    .dataframe tbody tr th:only-of-type {\n",
       "        vertical-align: middle;\n",
       "    }\n",
       "\n",
       "    .dataframe tbody tr th {\n",
       "        vertical-align: top;\n",
       "    }\n",
       "\n",
       "    .dataframe thead th {\n",
       "        text-align: right;\n",
       "    }\n",
       "</style>\n",
       "<table border=\"1\" class=\"dataframe\">\n",
       "  <thead>\n",
       "    <tr style=\"text-align: right;\">\n",
       "      <th></th>\n",
       "      <th>temperature</th>\n",
       "      <th>heart_rate</th>\n",
       "    </tr>\n",
       "  </thead>\n",
       "  <tbody>\n",
       "    <tr>\n",
       "      <th>count</th>\n",
       "      <td>130.000000</td>\n",
       "      <td>130.000000</td>\n",
       "    </tr>\n",
       "    <tr>\n",
       "      <th>mean</th>\n",
       "      <td>98.249231</td>\n",
       "      <td>73.761538</td>\n",
       "    </tr>\n",
       "    <tr>\n",
       "      <th>std</th>\n",
       "      <td>0.733183</td>\n",
       "      <td>7.062077</td>\n",
       "    </tr>\n",
       "    <tr>\n",
       "      <th>min</th>\n",
       "      <td>96.300000</td>\n",
       "      <td>57.000000</td>\n",
       "    </tr>\n",
       "    <tr>\n",
       "      <th>25%</th>\n",
       "      <td>97.800000</td>\n",
       "      <td>69.000000</td>\n",
       "    </tr>\n",
       "    <tr>\n",
       "      <th>50%</th>\n",
       "      <td>98.300000</td>\n",
       "      <td>74.000000</td>\n",
       "    </tr>\n",
       "    <tr>\n",
       "      <th>75%</th>\n",
       "      <td>98.700000</td>\n",
       "      <td>79.000000</td>\n",
       "    </tr>\n",
       "    <tr>\n",
       "      <th>max</th>\n",
       "      <td>100.800000</td>\n",
       "      <td>89.000000</td>\n",
       "    </tr>\n",
       "  </tbody>\n",
       "</table>\n",
       "</div>"
      ],
      "text/plain": [
       "       temperature  heart_rate\n",
       "count   130.000000  130.000000\n",
       "mean     98.249231   73.761538\n",
       "std       0.733183    7.062077\n",
       "min      96.300000   57.000000\n",
       "25%      97.800000   69.000000\n",
       "50%      98.300000   74.000000\n",
       "75%      98.700000   79.000000\n",
       "max     100.800000   89.000000"
      ]
     },
     "execution_count": 194,
     "metadata": {},
     "output_type": "execute_result"
    }
   ],
   "source": [
    "import pandas as pd\n",
    "\n",
    "df = pd.read_csv('data/human_body_temperature.csv')\n",
    "\n",
    "# prelims\n",
    "from IPython.core.interactiveshell import InteractiveShell\n",
    "InteractiveShell.ast_node_interactivity = \"all\" # show all outputs\n",
    "\n",
    "df.head()\n",
    "df.info()\n",
    "df.describe()"
   ]
  },
  {
   "cell_type": "markdown",
   "metadata": {},
   "source": [
    "__Q1.__ Is the distribution of body temperatures normal?  \n",
    "    <ul><li>Although this is not a requirement for CLT to hold (read CLT carefully), it gives us some peace of mind that the population may also be normally distributed if we assume that this sample is representative of the population.</ul>\n",
    "  "
   ]
  },
  {
   "cell_type": "code",
   "execution_count": 195,
   "metadata": {},
   "outputs": [
    {
     "data": {
      "text/plain": [
       "<matplotlib.axes._subplots.AxesSubplot at 0x16960873f60>"
      ]
     },
     "execution_count": 195,
     "metadata": {},
     "output_type": "execute_result"
    },
    {
     "data": {
      "image/png": "[encoded data removed]",
      "text/plain": [
       "<matplotlib.figure.Figure at 0x169625186a0>"
      ]
     },
     "metadata": {},
     "output_type": "display_data"
    },
    {
     "name": "stdout",
     "output_type": "stream",
     "text": [
      "Ho: Distribution is Normal\n",
      "Ha: Distribution is not Normal\n",
      "D'Agostino-Pearson test for normality p-value: 0.2587\n"
     ]
    }
   ],
   "source": [
    "import seaborn as sns\n",
    "import matplotlib.pyplot as plt\n",
    "from scipy.stats.mstats import normaltest\n",
    "\n",
    "# histogram/distribution plot to look at distribution\n",
    "sns.distplot(df['temperature'], bins=10)\n",
    "plt.show()\n",
    "\n",
    "# D'Agostino-Pearson test for normality\n",
    "# Ho: Normal Distribution\n",
    "# Ha: Non-Normal Distribution\n",
    "print(\"Ho: Distribution is Normal\")\n",
    "print(\"Ha: Distribution is not Normal\")\n",
    "print(\"D'Agostino-Pearson test for normality p-value: {0}\".format(round(normaltest(df['temperature'])[1], 4)))"
   ]
  },
  {
   "cell_type": "markdown",
   "metadata": {},
   "source": [
    "__A1.__ The distribution looks fairly Normal. The p-value on the Normality test also indicates there is insufficient data to reject the null hypothesis at the alpha=0.05 level.\n",
    "\n",
    "---\n",
    "\n",
    "__Q2.__ Is the sample size large? Are the observations independent?\n",
    "    <ul><li>Remember that this is a condition for the CLT, and hence the statistical tests we are using, to apply.</ul>"
   ]
  },
  {
   "cell_type": "code",
   "execution_count": 196,
   "metadata": {},
   "outputs": [
    {
     "name": "stdout",
     "output_type": "stream",
     "text": [
      "Number of observations in data: 130\n",
      "Number of male observations: 65\n",
      "Number of female observations: 65\n"
     ]
    }
   ],
   "source": [
    "# Sample size\n",
    "print(\"Number of observations in data: {0}\".format(df.shape[0]))\n",
    "print(\"Number of male observations: {0}\".format(df.loc[df['gender']=='M', 'gender'].count()))\n",
    "print(\"Number of female observations: {0}\".format(df.loc[df['gender']=='F', 'gender'].count()))"
   ]
  },
  {
   "cell_type": "markdown",
   "metadata": {},
   "source": [
    "__A2.__ \"Large\" is a relative term here, but in terms of CLT, it is large enough. There are 130 observations, separated evenly between genders. Because each observation is a different person, they are \"independent.\"\n",
    "\n",
    "---\n",
    "\n",
    "__Q3.__ Is the true population mean really 98.6 degrees F?\n",
    "<ul><li>Would you use a one-sample or two-sample test? Why?\n",
    "<li>In this situation, is it appropriate to use the $t$ or $z$ statistic?\n",
    "<li>Now try using the other test. How is the result be different? Why?</ul>"
   ]
  },
  {
   "cell_type": "code",
   "execution_count": 197,
   "metadata": {},
   "outputs": [
    {
     "name": "stdout",
     "output_type": "stream",
     "text": [
      "Ho: Population mean temperature is 98.6 degrees (mu == 98.6)\n",
      "Ha: Population mean temperature is not 98.6 degrees (mu != 98.6)\n",
      "\n",
      "p-value for two-sided z-test: 4.9021570141012155e-08\n",
      "p-value for two-sided t-test: 2.4106320415561276e-07\n"
     ]
    }
   ],
   "source": [
    "from scipy.stats import ttest_1samp\n",
    "from statsmodels.stats.weightstats import ztest\n",
    "\n",
    "print(\"Ho: Population mean temperature is 98.6 degrees (mu == 98.6)\")\n",
    "print(\"Ha: Population mean temperature is not 98.6 degrees (mu != 98.6)\\n\")\n",
    "\n",
    "# z-test\n",
    "z_result = ztest(df['temperature'], value=98.6)\n",
    "print(\"p-value for two-sided z-test: {0}\".format(z_result[1]))\n",
    "\n",
    "# t-test\n",
    "t_result = ttest_1samp(df['temperature'], popmean=98.6)\n",
    "print(\"p-value for two-sided t-test: {0}\".format(t_result[1]))"
   ]
  },
  {
   "cell_type": "markdown",
   "metadata": {},
   "source": [
    "__A3.__ The true population mean is not really 98.6 degrees F, since we reject the null hypothesis above (alpha=0.05), as our z-test p-value is 0.000000049.\n",
    "<ul><li>The one-sample test is appropriate here because we only have one sample -- we are not comparing men and women at this point.\n",
    "<li>Either statistic is fine to use in this case. Formally, the $t$ statistic _should_ be used, since the population parameters are unknown, but with more than about 30 observations, the $t$ and $z$ distributions are very similar. I think the answer the prompt is looking for is that the $z$ statistic is appropriate here because our sample is \"large.\"\n",
    "<li>The $t$ test result shows a slightly higher p-value becuase the tails on the Normal distribution are flatter than a $t$ distribution.</ul>\n",
    "    \n",
    "---\n",
    "\n",
    "__Q4.__  Draw a small sample of size 10 from the data and repeat both tests. \n",
    "    <ul>\n",
    "    <li> Which one is the correct one to use? \n",
    "    <li> What do you notice? What does this tell you about the difference in application of the $t$ and $z$ statistic?\n",
    "    </ul>"
   ]
  },
  {
   "cell_type": "code",
   "execution_count": 198,
   "metadata": {},
   "outputs": [
    {
     "name": "stdout",
     "output_type": "stream",
     "text": [
      "Ho: Population mean temperature is 98.6 degrees (mu == 98.6)\n",
      "Ha: Population mean temperature is not 98.6 degrees (mu != 98.6)\n",
      "\n",
      "p-value for two-sided z-test: 0.1186\n",
      "p-value for two-sided t-test: 0.153\n"
     ]
    }
   ],
   "source": [
    "print(\"Ho: Population mean temperature is 98.6 degrees (mu == 98.6)\")\n",
    "print(\"Ha: Population mean temperature is not 98.6 degrees (mu != 98.6)\\n\")\n",
    "\n",
    "sample = df['temperature'].sample(10, random_state=42)\n",
    "z_sample = ztest(sample, value=98.6)\n",
    "print(\"p-value for two-sided z-test: {0}\".format(round(z_sample[1], 4)))\n",
    "t_sample = ttest_1samp(sample, popmean=98.6)\n",
    "print(\"p-value for two-sided t-test: {0}\".format(round(t_sample[1], 4)))"
   ]
  },
  {
   "cell_type": "markdown",
   "metadata": {},
   "source": [
    "__A4.__ See the above results.\n",
    "<ul><li>The correct test to use is the t-test because the sample size is so small and we don't know the population parameters.\n",
    "    <li>The p-value for the t-test is slightly larger than the z-test's (as expected) and both fail to reject the null at the alpha = 0.05 level. This tells me that while a t-test is the correct test to use in this instance, smaller samples can fail to accurately estimate the population paramters.</ul>\n",
    "\n",
    "---\n",
    "        \n",
    "__Q5.__ At what temperature should we consider someone's temperature to be \"abnormal\"?\n",
    "    <ul>\n",
    "    <li> Start by computing the margin of error and confidence interval.\n",
    "    </ul>        "
   ]
  },
  {
   "cell_type": "code",
   "execution_count": 199,
   "metadata": {},
   "outputs": [
    {
     "name": "stdout",
     "output_type": "stream",
     "text": [
      "Standard deviation: 0.7332\n",
      "Mean: 98.2492\n",
      "95% Confidence Interval: (96.571, 99.9275)\n"
     ]
    }
   ],
   "source": [
    "# 95% confidence interval\n",
    "from scipy.stats import norm\n",
    "\n",
    "std = df['temperature'].std()\n",
    "print(\"Standard deviation:\", round(std, 4))\n",
    "\n",
    "x_bar = df['temperature'].mean()\n",
    "print(\"Mean:\", round(x_bar, 4))\n",
    "\n",
    "conf_int = norm.interval(0.95, loc=x_bar, scale=(std**.5))\n",
    "print(\"95% Confidence Interval: ({0}, {1})\".format(round(conf_int[0], 4), round(conf_int[1], 4)))\n"
   ]
  },
  {
   "cell_type": "markdown",
   "metadata": {},
   "source": [
    "__A5.__ Someone's temperature should be considered \"abnormal\" when it's below 96.57 or above 99.3 degrees, based on a 95% confidence interval and this data.\n",
    "\n",
    "---\n",
    "\n",
    "__Q6.__ Is there a significant difference between males and females in normal temperature?\n",
    "    <ul>\n",
    "    <li> What test did you use and why?\n",
    "    <li> Write a story with your conclusion in the context of the original problem.\n",
    "    </ul>"
   ]
  },
  {
   "cell_type": "code",
   "execution_count": 200,
   "metadata": {},
   "outputs": [
    {
     "name": "stdout",
     "output_type": "stream",
     "text": [
      "Ho: Genders have the same mean temperature (mean_m == mean_f)\n",
      "Ha: Genders do not have the same mean temperature (mean_m != mean_f)\n",
      "\n",
      "mean_m: 98.1046\n",
      "mean_f: 98.3938\n",
      "\n",
      "p-value for two-sided z-test: 0.0223\n"
     ]
    }
   ],
   "source": [
    "from numpy import mean\n",
    "\n",
    "m_temp = df.loc[df['gender']=='M', 'temperature'].tolist()\n",
    "f_temp = df.loc[df['gender']=='F', 'temperature'].tolist()\n",
    "\n",
    "print(\"Ho: Genders have the same mean temperature (mean_m == mean_f)\")\n",
    "print(\"Ha: Genders do not have the same mean temperature (mean_m != mean_f)\\n\")\n",
    "\n",
    "z_test = ztest(m_temp, f_temp)\n",
    "print(\"mean_m: {0}\".format(round(mean(m_temp), 4)))\n",
    "print(\"mean_f: {0}\\n\".format(round(mean(f_temp), 4)))\n",
    "print(\"p-value for two-sided z-test: {0}\".format(round(z_test[1], 4)))"
   ]
  },
  {
   "cell_type": "markdown",
   "metadata": {},
   "source": [
    "__A6.__ See the above hypothesis test.\n",
    "<ul><li>There is a significant difference (at the alpha = 0.05 level) between the mean temperatures for men and women. I used a two-sied, two-sample z-test because there are two groups (male, female), the groups are sufficiently large to use the z- insted of t-test, and the question is about the equality of the groups' means (versus \"mean_m > mean_f\", etc., which would be one-sided).\n",
    "<li>98.6 degrees Farenheit is regularly cited as the normal body temperature, but this is misleading for two reasons. First, this is not an accurate estimate of the true average body temperature of people today. Using a dataset representative of the current US adult population, we find that a better estimate is closer to 98.2 degrees Farenheit. This 0.4 degree difference may seem small, but it is large enough to be considered statistically significantly different: these two temperatures are very much not the same. Second, a single estimate for \"normal\" body temperature does not account for variations among individuals. Instead of using a single number, a range can tell us: \"What is 'normal' for 95% of the population?\" Based on this same data, we can see that a normal body temperature is somewhere etween 96.57 and 99.3 degrees. Because of all of this, the single-value 98.6 approach should be left behind in favor of a range centered around 98.2: normal is somewhere between 96.57 and 99.3.\n",
    "</ul>\n"
   ]
  }
 ],
 "metadata": {
  "kernelspec": {
   "display_name": "Python 3",
   "language": "python",
   "name": "python3"
  },
  "language_info": {
   "codemirror_mode": {
    "name": "ipython",
    "version": 3
   },
   "file_extension": ".py",
   "mimetype": "text/x-python",
   "name": "python",
   "nbconvert_exporter": "python",
   "pygments_lexer": "ipython3",
   "version": "3.6.3"
  }
 },
 "nbformat": 4,
 "nbformat_minor": 1
}
